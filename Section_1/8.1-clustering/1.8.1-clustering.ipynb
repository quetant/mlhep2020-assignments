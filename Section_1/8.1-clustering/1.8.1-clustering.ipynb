{
 "cells": [
  {
   "cell_type": "markdown",
   "metadata": {
    "collapsed": false
   },
   "source": [
    "<center><img src=\"img/logo.png\"></center>\n",
    "\n",
    "<h1><center>Seminar</center></h1>\n",
    "<h2><center>Clustering. K-Means. Quality Metrics.</center></h2>"
   ]
  },
  {
   "cell_type": "markdown",
   "metadata": {
    "collapsed": false
   },
   "source": [
    "# About\n",
    "\n",
    "The goal of this seminar is to consider K-Means algorithm for clustering, implement it and demonstrate how it works. Moreover, we will consider several quality metrics and will see how to use them to tune clustering algorithms."
   ]
  },
  {
   "cell_type": "code",
   "execution_count": null,
   "metadata": {},
   "outputs": [],
   "source": [
    "import pandas as pd\n",
    "import numpy as np\n",
    "import numpy.testing as np_testing\n",
    "import matplotlib.pyplot as plt\n",
    "\n",
    "%matplotlib inline"
   ]
  },
  {
   "cell_type": "markdown",
   "metadata": {
    "collapsed": false
   },
   "source": [
    "# Part 1: K-Means"
   ]
  },
  {
   "cell_type": "markdown",
   "metadata": {
    "collapsed": false
   },
   "source": [
    "## Data Preparation"
   ]
  },
  {
   "cell_type": "code",
   "execution_count": null,
   "metadata": {},
   "outputs": [],
   "source": [
    "from sklearn import datasets\n",
    "\n",
    "n_samples = 1500\n",
    "random_state = 170\n",
    "X, y = datasets.make_blobs(centers=5, n_samples=n_samples, random_state=random_state, center_box=(-10, 10))\n",
    "\n",
    "# To play with\n",
    "# X, y = datasets.make_circles(n_samples=n_samples, factor=.5, noise=.05)\n",
    "# X, y = datasets.make_moons(n_samples=n_samples, noise=.05)\n",
    "# X = np.random.rand(n_samples, 2)"
   ]
  },
  {
   "cell_type": "code",
   "execution_count": null,
   "metadata": {},
   "outputs": [],
   "source": [
    "# example of object in the feature matrix\n",
    "X[:5]"
   ]
  },
  {
   "cell_type": "code",
   "execution_count": null,
   "metadata": {},
   "outputs": [],
   "source": [
    "# example of cluster labels\n",
    "y[:5]"
   ]
  },
  {
   "cell_type": "code",
   "execution_count": null,
   "metadata": {},
   "outputs": [],
   "source": [
    "# we will use the function below to plot clusters and results of clustering algorithms\n",
    "\n",
    "def plot_clusters(X, y):\n",
    "\n",
    "    # Create an figure with a custom size\n",
    "    # plt.figure(figsize=(6, 4))\n",
    "    \n",
    "    if y is not None:\n",
    "        for cluster_label in np.unique(y):\n",
    "            # Plot all objects with y == i (class 0)\n",
    "            plt.scatter(X[y == cluster_label, 0],     # selects all objects with y == i and the 1st column of X\n",
    "                        X[y == cluster_label, 1],     # selects all objects with y == i and the 2nd column of X\n",
    "                        label=str(cluster_label))     # label for the plot legend\n",
    "    else:\n",
    "        plt.scatter(X[:, 0], X[:, 1], label='samples')\n",
    "\n",
    "    plt.xlabel('X1', size=12) # set up X-axis label\n",
    "    plt.ylabel('X2', size=12) # set up Y-axis label\n",
    "    plt.xticks(size=12)\n",
    "    plt.yticks(size=12)\n",
    "\n",
    "    plt.legend(loc='best', fontsize=12) # create the plot legend and set up it position\n",
    "    plt.grid(b=1) # create grid on the plot\n",
    "\n",
    "    plt.show() # display the plot"
   ]
  },
  {
   "cell_type": "code",
   "execution_count": null,
   "metadata": {},
   "outputs": [],
   "source": [
    "# show clusters in the sample\n",
    "plot_clusters(X, y=None)"
   ]
  },
  {
   "cell_type": "markdown",
   "metadata": {
    "collapsed": false
   },
   "source": [
    "## K-Means Algorithm"
   ]
  },
  {
   "cell_type": "markdown",
   "metadata": {
    "collapsed": false
   },
   "source": [
    "Suppose we have $N$ samples and $K$ clusters. Each cluster is described by its center (centroid) with coordinates $\\mu_{j}$. The centroids are estimated by minimizing **within-cluster distance criterion**:\n",
    "\n",
    "$$\n",
    "L = \\sum_{i=1}^{N} \\min_{\\mu_{k}} \\rho(x_{i}, \\mu_{k}) \\to \\min_{\\mu_{1}, ..., \\mu_{K}}\n",
    "$$\n",
    "\n",
    "$$\n",
    "\\rho(x_{i}, \\mu_{k}) = || x_{i} - \\mu_{k} ||^{2}\n",
    "$$\n",
    "\n",
    "where $x_{i}$ is an object coordinates, $\\rho(x_{i}, \\mu_{k})$ is distance between the $i$-th object and the $k$-th cluster's centroid."
   ]
  },
  {
   "cell_type": "markdown",
   "metadata": {
    "collapsed": false
   },
   "source": [
    "**K-Means algorithm:**\n",
    "\n",
    "<center><img src=\"img/kmeans-alg.png\" width=400></center>"
   ]
  },
  {
   "cell_type": "markdown",
   "metadata": {
    "collapsed": false
   },
   "source": [
    "<center><img src=\"img/kmean1.png\" width=500></center>"
   ]
  },
  {
   "cell_type": "markdown",
   "metadata": {
    "collapsed": false
   },
   "source": [
    "### Task 1\n",
    "\n",
    "Implement cluster centers initialization.\n",
    "\n",
    "**Hint:** use `sklearn.utils.resample()` function with `random_state=11` and `replace=False`."
   ]
  },
  {
   "cell_type": "code",
   "execution_count": null,
   "metadata": {
    "deletable": false,
    "nbgrader": {
     "cell_type": "code",
     "checksum": "f363acf43f8f238763f0a159a1e5fbdb",
     "grade": false,
     "grade_id": "2ee010_ans",
     "locked": false,
     "schema_version": 3,
     "solution": true,
     "task": false
    }
   },
   "outputs": [],
   "source": [
    "from sklearn.utils import resample\n",
    "\n",
    "def init_cluster_centers(X, n_clusters):\n",
    "    \"\"\"\n",
    "    Initialize cluster centers.\n",
    "\n",
    "    Parameters:\n",
    "    -----------\n",
    "    X: numpy.array\n",
    "        Object coordinates.\n",
    "    n_clusters: int\n",
    "        Number of clusters.\n",
    "    \n",
    "    Returns:\n",
    "    --------\n",
    "    cluster_centers: numpy.array\n",
    "        Initialized cluster centers.\n",
    "    \"\"\"\n",
    "    \n",
    "    # your code here\n",
    "    raise NotImplementedError\n",
    "    \n",
    "    return cluster_centers"
   ]
  },
  {
   "cell_type": "code",
   "execution_count": null,
   "metadata": {},
   "outputs": [],
   "source": [
    "cluster_centers = init_cluster_centers(X, n_clusters=5)\n",
    "cluster_centers"
   ]
  },
  {
   "cell_type": "markdown",
   "metadata": {
    "collapsed": false
   },
   "source": [
    "Expected output:\n",
    "\n",
    "<center>   \n",
    "    \n",
    "```python\n",
    "array([[ 4.90859405, -9.47195561],\n",
    "       [ 0.93873614,  0.72814128],\n",
    "       [-3.97968071,  0.54670645],\n",
    "       [-8.54689292, -5.7938369 ],\n",
    "       [ 9.78203287, -1.31122135]])\n",
    "    \n",
    "``` \n",
    "    \n",
    "</center>"
   ]
  },
  {
   "cell_type": "code",
   "execution_count": null,
   "metadata": {
    "deletable": false,
    "editable": false,
    "nbgrader": {
     "cell_type": "code",
     "checksum": "28205821dee3e16be4dd31a816bbc937",
     "grade": true,
     "grade_id": "2ee010",
     "locked": true,
     "points": 1,
     "schema_version": 3,
     "solution": false,
     "task": false
    }
   },
   "outputs": [],
   "source": []
  },
  {
   "cell_type": "markdown",
   "metadata": {
    "collapsed": false
   },
   "source": [
    "### Task 2\n",
    "\n",
    "For the given cluster centers find cluster labels for each object in the sample. An object is assigned to the closest center based on euclidean distance. \n",
    "\n",
    "**Hint:** create a matrix of distances between the objects and cluster centers. Each row in this matrix corresponds to one object, each column corresponds to one cluster. Then, use `np.argmin()` function to find the closest center for each object."
   ]
  },
  {
   "cell_type": "code",
   "execution_count": null,
   "metadata": {
    "deletable": false,
    "nbgrader": {
     "cell_type": "code",
     "checksum": "cf2c3bed31ce1c342044c87bd4b02ab2",
     "grade": false,
     "grade_id": "a2f254_ans",
     "locked": false,
     "schema_version": 3,
     "solution": true,
     "task": false
    }
   },
   "outputs": [],
   "source": [
    "def predict_for_centers(cluster_centers, X):\n",
    "    \"\"\"\n",
    "    Predict cluster labels based on their centroids.\n",
    "\n",
    "    Parameters:\n",
    "    -----------\n",
    "    cluster_centers: numpy.array\n",
    "        Array of the cluster centers.\n",
    "    X: numpy.array\n",
    "        Object coordinates.\n",
    "\n",
    "    Returns:\n",
    "    --------\n",
    "    labels: numpy.array\n",
    "        Predicted cluster labels. Example: labels = [0, 0, 1, 1, 0, 2, ...].\n",
    "    \"\"\"\n",
    "\n",
    "    object_distances2 = []\n",
    "    for one_cluster_center in cluster_centers:\n",
    "        dist2 = ((X - one_cluster_center)**2).sum(axis=1)\n",
    "        object_distances2.append(dist2)\n",
    "    object_distances2 = np.array(object_distances2)\n",
    "    # labels = ...\n",
    "    # your code here\n",
    "    raise NotImplementedError\n",
    "\n",
    "    return labels"
   ]
  },
  {
   "cell_type": "code",
   "execution_count": null,
   "metadata": {},
   "outputs": [],
   "source": [
    "labels = predict_for_centers(cluster_centers, X)\n",
    "labels[:10]"
   ]
  },
  {
   "cell_type": "markdown",
   "metadata": {
    "collapsed": false
   },
   "source": [
    "Expected output:\n",
    "\n",
    "<center>   \n",
    "    \n",
    "```python\n",
    "array([2, 1, 4, 0, 3, 1, 0, 4, 4, 2])\n",
    "    \n",
    "``` \n",
    "    \n",
    "</center>"
   ]
  },
  {
   "cell_type": "code",
   "execution_count": null,
   "metadata": {
    "deletable": false,
    "editable": false,
    "nbgrader": {
     "cell_type": "code",
     "checksum": "40bbb43ce9a5d9e6ccef0318297500ae",
     "grade": true,
     "grade_id": "a2f254",
     "locked": true,
     "points": 1,
     "schema_version": 3,
     "solution": false,
     "task": false
    }
   },
   "outputs": [],
   "source": []
  },
  {
   "cell_type": "markdown",
   "metadata": {
    "collapsed": false
   },
   "source": [
    "## Task 3\n",
    "\n",
    "Recalculate cluster centers using cluster labels estimated previously. \n",
    "\n",
    "**Hint:** select all objects from one cluster and find mean values of the object coordinates in this cluster. Repeat this for all clusters."
   ]
  },
  {
   "cell_type": "code",
   "execution_count": null,
   "metadata": {
    "deletable": false,
    "nbgrader": {
     "cell_type": "code",
     "checksum": "7156bcd4a9c0c75469b0de21d96462da",
     "grade": false,
     "grade_id": "9befec_ans",
     "locked": false,
     "schema_version": 3,
     "solution": true,
     "task": false
    }
   },
   "outputs": [],
   "source": [
    "def calculate_cluster_centers(X, labels):\n",
    "    \"\"\"\n",
    "    Estimate cluster centers based on objects in these clusters.\n",
    "\n",
    "    Parameters:\n",
    "    -----------\n",
    "    X: numpy.array\n",
    "        Object coordinates.\n",
    "    labels: numpy.array\n",
    "        Cluster labels of the objects.\n",
    "\n",
    "    Returns:\n",
    "    --------\n",
    "    cluster_centers: numpy.array\n",
    "        Estimated cluster centers.\n",
    "    \"\"\"\n",
    "\n",
    "    \n",
    "    cluster_centers = []\n",
    "    cluster_labels = np.unique(labels)\n",
    "\n",
    "    for one_cluster_label in cluster_labels:\n",
    "        # your code here\n",
    "        raise NotImplementedError\n",
    "\n",
    "    return np.array(cluster_centers)"
   ]
  },
  {
   "cell_type": "code",
   "execution_count": null,
   "metadata": {},
   "outputs": [],
   "source": [
    "new_cluster_centers = calculate_cluster_centers(X, labels)\n",
    "new_cluster_centers"
   ]
  },
  {
   "cell_type": "markdown",
   "metadata": {
    "collapsed": false
   },
   "source": [
    "Expected output:\n",
    "\n",
    "<center>   \n",
    "    \n",
    "```python\n",
    "array([[ 4.86847219, -9.7376866 ],\n",
    "       [ 1.94782782,  0.47149765],\n",
    "       [-4.57265217, -0.02942499],\n",
    "       [-8.8991547 , -5.41650701],\n",
    "       [ 8.87178022, -0.71222366]])\n",
    "    \n",
    "``` \n",
    "    \n",
    "</center>"
   ]
  },
  {
   "cell_type": "code",
   "execution_count": null,
   "metadata": {
    "deletable": false,
    "editable": false,
    "nbgrader": {
     "cell_type": "code",
     "checksum": "2087515411f1c9ff5efd613e3d22b85f",
     "grade": true,
     "grade_id": "9befec",
     "locked": true,
     "points": 1,
     "schema_version": 3,
     "solution": false,
     "task": false
    }
   },
   "outputs": [],
   "source": []
  },
  {
   "cell_type": "markdown",
   "metadata": {
    "collapsed": false
   },
   "source": [
    "### Task 4\n",
    "\n",
    "Bring all steps together. Using functions from the previous tasks, finish `fit()` method of the class below."
   ]
  },
  {
   "cell_type": "code",
   "execution_count": null,
   "metadata": {
    "deletable": false,
    "nbgrader": {
     "cell_type": "code",
     "checksum": "42a9d72da5a0298e781a42baac1b7362",
     "grade": false,
     "grade_id": "a1d430_ans",
     "locked": false,
     "schema_version": 3,
     "solution": true,
     "task": false
    }
   },
   "outputs": [],
   "source": [
    "class MyKmeans(object):\n",
    "    \n",
    "    def __init__(self, n_clusters=2, max_iter=10):\n",
    "        \"\"\"\n",
    "        K-Means clustering algorithms implementation.\n",
    "        \n",
    "        Parameters:\n",
    "        -----------\n",
    "        n_clusters: int\n",
    "            Number of clusters.\n",
    "        max_iters: int\n",
    "            Number of iterations of the centroids search.\n",
    "        \"\"\"\n",
    "        \n",
    "        self.n_clusters = n_clusters\n",
    "        self.max_iter = max_iter\n",
    "        \n",
    "        # to store found centers\n",
    "        self.cluster_centers = None\n",
    "    \n",
    "    def fit(self, X):\n",
    "        \"\"\"\n",
    "        Run k-Means algorithm for randomly init cluster centers.\n",
    "        \n",
    "        Parameters:\n",
    "        -----------\n",
    "        X: numpy.array\n",
    "            Samples coordinates.\n",
    "        \"\"\"\n",
    "        \n",
    "        # Init cluster centers\n",
    "        \n",
    "        # cluster_centers = ...\n",
    "        # your code here\n",
    "        raise NotImplementedError\n",
    "        \n",
    "        \n",
    "        # Search for cluster centers\n",
    "        for i in range(self.max_iter):\n",
    "            # labels = ...\n",
    "            # cluster_centers = ...\n",
    "            # your code here\n",
    "            raise NotImplementedError\n",
    "            \n",
    "        self.cluster_centers = cluster_centers\n",
    "    \n",
    "    \n",
    "    def predict(self, X):\n",
    "        \"\"\"\n",
    "        Predict cluster labels.\n",
    "        \n",
    "        Parameters:\n",
    "        -----------\n",
    "        X: numpy.array\n",
    "            Samples coordinates.\n",
    "        \n",
    "        Returns:\n",
    "        --------\n",
    "        y: numpy.array\n",
    "            Predicted cluster labels. Example: labels = [0, 0, 1, 1, 0, 2, ...].\n",
    "        \"\"\"\n",
    "        \n",
    "        y = predict_for_centers(self.cluster_centers, X)\n",
    "        \n",
    "        return y"
   ]
  },
  {
   "cell_type": "code",
   "execution_count": null,
   "metadata": {},
   "outputs": [],
   "source": [
    "clusterer = MyKmeans(n_clusters=5, max_iter=20)\n",
    "clusterer.fit(X)\n",
    "y_pred = clusterer.predict(X)\n",
    "\n",
    "y_pred[:10]"
   ]
  },
  {
   "cell_type": "markdown",
   "metadata": {
    "collapsed": false
   },
   "source": [
    "Expected output:\n",
    "\n",
    "<center>   \n",
    "    \n",
    "```python\n",
    "array([2, 1, 4, 0, 3, 1, 0, 4, 4, 2])\n",
    "    \n",
    "``` \n",
    "    \n",
    "</center>"
   ]
  },
  {
   "cell_type": "code",
   "execution_count": null,
   "metadata": {
    "deletable": false,
    "editable": false,
    "nbgrader": {
     "cell_type": "code",
     "checksum": "c8646abceee8e551b6e8a629802505e1",
     "grade": true,
     "grade_id": "a1d430",
     "locked": true,
     "points": 1,
     "schema_version": 3,
     "solution": false,
     "task": false
    }
   },
   "outputs": [],
   "source": []
  },
  {
   "cell_type": "code",
   "execution_count": null,
   "metadata": {},
   "outputs": [],
   "source": [
    "# show results of our K-Means algorithm\n",
    "plot_clusters(X, y_pred)"
   ]
  },
  {
   "cell_type": "markdown",
   "metadata": {
    "collapsed": false
   },
   "source": [
    "# Part 2: Quality Metrics"
   ]
  },
  {
   "cell_type": "markdown",
   "metadata": {
    "collapsed": false
   },
   "source": [
    "## Data Prepration"
   ]
  },
  {
   "cell_type": "code",
   "execution_count": null,
   "metadata": {},
   "outputs": [],
   "source": [
    "from sklearn import datasets\n",
    "\n",
    "n_samples = 1500\n",
    "random_state = 170\n",
    "n_true_clusters = np.random.RandomState(42).randint(5, 15, 1)[0]\n",
    "X, y = datasets.make_blobs(centers=n_true_clusters, n_features=10, \n",
    "                           n_samples=n_samples, random_state=random_state, center_box=(-10, 10))\n",
    "\n",
    "# To play with\n",
    "# X, y = datasets.make_circles(n_samples=n_samples, factor=.5, noise=.05)\n",
    "# X, y = datasets.make_moons(n_samples=n_samples, noise=.05)\n",
    "# X = np.random.rand(n_samples, 2)"
   ]
  },
  {
   "cell_type": "code",
   "execution_count": null,
   "metadata": {},
   "outputs": [],
   "source": [
    "# example of object in the feature matrix\n",
    "X[:2]"
   ]
  },
  {
   "cell_type": "code",
   "execution_count": null,
   "metadata": {},
   "outputs": [],
   "source": [
    "# example of cluster labels\n",
    "y[:5]"
   ]
  },
  {
   "cell_type": "markdown",
   "metadata": {
    "collapsed": false
   },
   "source": [
    "## Metrics"
   ]
  },
  {
   "cell_type": "markdown",
   "metadata": {
    "collapsed": false
   },
   "source": [
    "**Silhouette Score:**\n",
    "\n",
    "$$\n",
    "s = \\frac{b - a}{max(a, b)}\n",
    "$$\n",
    "\n",
    "- **a**: The mean distance between a sample and all other points in the same class.\n",
    "- **b**: The mean distance between a sample and all other points in the next nearest cluster.\n",
    "\n",
    "\n",
    "**Adjusted Rand Index (ARI):**\n",
    "\n",
    "$$\n",
    "ARI = \\frac{RI - Expected\\_RI}{max(RI) - Expected\\_RI}\n",
    "$$\n",
    "\n",
    "$$\n",
    "RI = \\frac{TP+TN}{TP+TN+FP+FN}\n",
    "$$\n",
    "\n",
    "\n",
    "- TP – number of pairs in the same cluster in predictions and the ground truth,\n",
    "- TN – number of pairs from different clusters in predictions and the ground truth,\n",
    "- FP – number of pairs in the same cluster in predictions, but from different clusters    in the ground truth,\n",
    "- FN – number of pairs in the same cluster in the ground truth, but from the different clusters in predictions.\n",
    "\n",
    "\n",
    "**Fowlkes-Mallows Index (FMI):**\n",
    "\n",
    "$$\n",
    "FMI = \\frac{TP}{\\sqrt{(TP+FP)(TP+FN)}}\n",
    "$$"
   ]
  },
  {
   "cell_type": "code",
   "execution_count": null,
   "metadata": {},
   "outputs": [],
   "source": [
    "from sklearn.cluster import KMeans\n",
    "from sklearn import metrics\n",
    "\n",
    "# list to collect metric values\n",
    "silhouette_score_values = []\n",
    "adjusted_rand_score_values = []\n",
    "fmi_score_values = []\n",
    "within_cluster_dist_values = []\n",
    "\n",
    "# number of clusters range\n",
    "n_clusters = np.arange(2, 21)\n",
    "\n",
    "\n",
    "for n in n_clusters:\n",
    "    \n",
    "    # run K-Means lgorithms\n",
    "    clusterer = KMeans(n_clusters=n, max_iter=10, n_init=10)\n",
    "    clusterer.fit(X)\n",
    "    y_pred = clusterer.predict(X)\n",
    "    \n",
    "    # silhouette score\n",
    "    score1 = metrics.silhouette_score(X, y_pred)\n",
    "    silhouette_score_values.append(score1)\n",
    "    \n",
    "    # ARI\n",
    "    score2 = metrics.adjusted_rand_score(y, y_pred)\n",
    "    adjusted_rand_score_values.append(score2)\n",
    "    \n",
    "    # FMI\n",
    "    score3 = metrics.fowlkes_mallows_score(y, y_pred)\n",
    "    fmi_score_values.append(score3)\n",
    "    \n",
    "    # within cluster dist\n",
    "    score4 = clusterer.inertia_ # sum of squared distances of samples to their closest cluster center\n",
    "    within_cluster_dist_values.append(score4)"
   ]
  },
  {
   "cell_type": "code",
   "execution_count": null,
   "metadata": {},
   "outputs": [],
   "source": [
    "# Plot metric dependencies from number of clusters\n",
    "\n",
    "plt.figure(figsize=(9, 6))\n",
    "plt.plot(n_clusters, silhouette_score_values, linewidth=3, label='Silhouette score')\n",
    "plt.plot(n_clusters, adjusted_rand_score_values, linewidth=3, label='Adjusted rand score')\n",
    "plt.plot(n_clusters, fmi_score_values, linewidth=3, label='Fowlkes-Mallows score')\n",
    "plt.xlabel('Number of clusters', size=16)\n",
    "plt.ylabel('Score', size=16)\n",
    "plt.xticks(n_clusters, size=16)\n",
    "plt.yticks(size=16)\n",
    "plt.legend(loc='best', fontsize=16)\n",
    "plt.grid(b=1)\n",
    "plt.show()\n",
    "\n",
    "\n",
    "plt.figure(figsize=(9, 6))\n",
    "plt.plot(n_clusters, within_cluster_dist_values, linewidth=3, label='Within-cluster distance')\n",
    "plt.xlabel('Number of clusters', size=16)\n",
    "plt.ylabel('Score', size=16)\n",
    "plt.xticks(n_clusters, size=16)\n",
    "plt.yticks(size=16)\n",
    "plt.legend(loc='best', fontsize=16)\n",
    "plt.grid(b=1)\n",
    "plt.show()"
   ]
  },
  {
   "cell_type": "markdown",
   "metadata": {
    "collapsed": false
   },
   "source": [
    "### Task 5\n",
    "\n",
    "Using metric plots above, estimate true number of clusters in the sample."
   ]
  },
  {
   "cell_type": "code",
   "execution_count": null,
   "metadata": {},
   "outputs": [],
   "source": [
    "# to see the answer, uncomment the code below:\n",
    "\n",
    "# print(\"True number of clusters: \", n_true_clusters)"
   ]
  },
  {
   "cell_type": "markdown",
   "metadata": {
    "collapsed": false
   },
   "source": [
    "# Part 3: Real Data Example (Advanced)\n",
    "\n",
    "In this part you need to apply K-Means algorithm to a real data sample to find groups of people with similar interests based on their facebook profile. "
   ]
  },
  {
   "cell_type": "markdown",
   "metadata": {
    "collapsed": false
   },
   "source": [
    "The sample has columns: \n",
    "* Year of creation\n",
    "* Gender\n",
    "* Age\n",
    "* Number of friends\n",
    "* 36 keywords that are found in the facebook profile (interests, community, meetings)"
   ]
  },
  {
   "cell_type": "code",
   "execution_count": null,
   "metadata": {},
   "outputs": [],
   "source": [
    "# reading data\n",
    "df_sns = pd.read_csv('data/snsdata.csv', sep=',')\n",
    "df_sns.head()"
   ]
  },
  {
   "cell_type": "markdown",
   "metadata": {
    "collapsed": false
   },
   "source": [
    "## Create matrix X"
   ]
  },
  {
   "cell_type": "code",
   "execution_count": null,
   "metadata": {},
   "outputs": [],
   "source": [
    "df_sns.columns"
   ]
  },
  {
   "cell_type": "code",
   "execution_count": null,
   "metadata": {},
   "outputs": [],
   "source": [
    "word_cols = ['basketball', 'football',\n",
    "             'soccer', 'softball', 'volleyball', 'swimming', 'cheerleading',\n",
    "             'baseball', 'tennis', 'sports', 'cute', 'sex', 'sexy', 'hot', 'kissed',\n",
    "             'dance', 'band', 'marching', 'music', 'rock', 'god', 'church', 'jesus',\n",
    "             'bible', 'hair', 'dress', 'blonde', 'mall', 'shopping', 'clothes',\n",
    "             'hollister', 'abercrombie', 'die', 'death', 'drunk', 'drugs']\n",
    "\n",
    "X = df_sns[word_cols].values"
   ]
  },
  {
   "cell_type": "markdown",
   "metadata": {
    "collapsed": false
   },
   "source": [
    "## Apply K-Means"
   ]
  },
  {
   "cell_type": "code",
   "execution_count": null,
   "metadata": {},
   "outputs": [],
   "source": [
    "# apply K-Means\n",
    "clusterer = KMeans(n_clusters=10, max_iter=10, n_init=10)\n",
    "clusterer.fit(X)\n",
    "y_pred = clusterer.predict(X)"
   ]
  },
  {
   "cell_type": "code",
   "execution_count": null,
   "metadata": {},
   "outputs": [],
   "source": [
    "# calculate quality metric\n",
    "metrics.silhouette_score(X, y_pred)"
   ]
  },
  {
   "cell_type": "code",
   "execution_count": null,
   "metadata": {},
   "outputs": [],
   "source": [
    "# get coordinates of the found cluster centers\n",
    "cluster_centers = clusterer.cluster_centers_"
   ]
  },
  {
   "cell_type": "code",
   "execution_count": null,
   "metadata": {},
   "outputs": [],
   "source": [
    "# plot cluster centers\n",
    "\n",
    "for i in range(len(cluster_centers)):\n",
    "    plt.figure(figsize=(12, 3))\n",
    "    plt.bar(np.arange(cluster_centers.shape[1]), cluster_centers[i], label=\"Cluster \"+str(i+1))\n",
    "    plt.xticks(np.arange(len(word_cols)), word_cols, rotation=90, size=14)\n",
    "    plt.legend(loc='best', fontsize=14)\n",
    "    plt.show()"
   ]
  },
  {
   "cell_type": "markdown",
   "metadata": {
    "collapsed": false
   },
   "source": [
    "### Task 6\n",
    "\n",
    "Find the optimal number of clusters in the sample. \n",
    "\n",
    "**Hint:** try to plot dependency of quality metrics from number of clusters. Which metrics will you choose? "
   ]
  },
  {
   "cell_type": "code",
   "execution_count": null,
   "metadata": {},
   "outputs": [],
   "source": []
  }
 ],
 "metadata": {
  "kernelspec": {
   "display_name": "Python 3",
   "language": "python",
   "name": "python3"
  },
  "language_info": {
   "codemirror_mode": {
    "name": "ipython",
    "version": 3
   },
   "file_extension": ".py",
   "mimetype": "text/x-python",
   "name": "python",
   "nbconvert_exporter": "python",
   "pygments_lexer": "ipython3",
   "version": "3.6.9"
  }
 },
 "nbformat": 4,
 "nbformat_minor": 4
}
