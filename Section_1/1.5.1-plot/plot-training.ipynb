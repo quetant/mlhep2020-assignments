{
 "cells": [
  {
   "cell_type": "code",
   "execution_count": null,
   "metadata": {},
   "outputs": [],
   "source": [
    "%matplotlib inline"
   ]
  },
  {
   "cell_type": "code",
   "execution_count": null,
   "metadata": {},
   "outputs": [],
   "source": [
    "import numpy as np\n",
    "import matplotlib.pyplot as plt\n",
    "from matplotlib.colors import ListedColormap\n",
    "from sklearn.datasets import make_moons\n",
    "from sklearn.tree import DecisionTreeClassifier, plot_tree\n",
    "from sklearn.metrics import roc_auc_score"
   ]
  },
  {
   "cell_type": "code",
   "execution_count": null,
   "metadata": {},
   "outputs": [],
   "source": [
    "cm_bright = ListedColormap(['#FF0000', '#0000FF'])"
   ]
  },
  {
   "cell_type": "code",
   "execution_count": null,
   "metadata": {},
   "outputs": [],
   "source": [
    "data, labels = make_moons(200, noise=0.3, random_state=42)\n",
    "test_data, test_labels = make_moons(10000, noise=0.3, random_state=43)"
   ]
  },
  {
   "cell_type": "code",
   "execution_count": null,
   "metadata": {},
   "outputs": [],
   "source": [
    "h = 0.02\n",
    "x_min, x_max = data[:, 0].min() - .5, data[:, 0].max() + .5\n",
    "y_min, y_max = data[:, 1].min() - .5, data[:, 1].max() + .5\n",
    "xx, yy = np.meshgrid(np.arange(x_min, x_max, h),\n",
    "                         np.arange(y_min, y_max, h))"
   ]
  },
  {
   "cell_type": "code",
   "execution_count": null,
   "metadata": {},
   "outputs": [],
   "source": [
    "def plot_for_depth(depth):\n",
    "    clf = DecisionTreeClassifier(max_depth=depth, random_state=41).fit(data, labels)\n",
    "    train_loss = roc_auc_score(labels, clf.predict_proba(data)[:, 1])\n",
    "    test_loss = roc_auc_score(test_labels, clf.predict_proba(test_data)[:, 1])\n",
    "    Z = clf.predict_proba(np.c_[xx.ravel(), yy.ravel()])[:, 1].reshape(xx.shape)\n",
    "    fig, (ax_tree, ax_surface) = plt.subplots(1, 2, figsize=(10, 4))\n",
    "    ax_surface.contourf(xx, yy, Z, cmap=plt.cm.RdBu, alpha=.8)\n",
    "    ax_surface.scatter(data[:, 0], data[:, 1], c=labels, cmap=cm_bright,\n",
    "               edgecolors='k', alpha=0.6)\n",
    "    ax_surface.set_xlabel(\"X\")\n",
    "    ax_surface.set_ylabel(\"Y\")\n",
    "    ax_surface.set_title(f'Train AUC={train_loss:.3f}; test AUC={test_loss:.3f}')\n",
    "    plot_tree(clf, ax=ax_tree, feature_names=[\"X\", \"Y\"], class_names=[\"red\", \"blue\"], filled=True)\n",
    "    fig.savefig(f\"figures/tree-training-depth-{depth}.pdf\", bbox_inches=\"tight\")"
   ]
  },
  {
   "cell_type": "code",
   "execution_count": null,
   "metadata": {},
   "outputs": [],
   "source": [
    "for depth in range(1, 10):\n",
    "    plot_for_depth(depth)"
   ]
  }
 ],
 "metadata": {
  "kernelspec": {
   "display_name": "Python 3",
   "language": "python",
   "name": "python3"
  },
  "language_info": {
   "codemirror_mode": {
    "name": "ipython",
    "version": 3
   },
   "file_extension": ".py",
   "mimetype": "text/x-python",
   "name": "python",
   "nbconvert_exporter": "python",
   "pygments_lexer": "ipython3",
   "version": "3.6.10"
  }
 },
 "nbformat": 4,
 "nbformat_minor": 4
}
