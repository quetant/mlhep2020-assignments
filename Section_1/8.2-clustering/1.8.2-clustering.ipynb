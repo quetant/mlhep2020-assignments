{
 "cells": [
  {
   "cell_type": "markdown",
   "metadata": {
    "collapsed": false
   },
   "source": [
    "<center><img src=\"img/logo.png\"></center>\n",
    "\n",
    "<h1><center>Seminar</center></h1>\n",
    "<h2><center>Hierarchical Clustering. DBSCAN.</center></h2>"
   ]
  },
  {
   "cell_type": "markdown",
   "metadata": {
    "collapsed": false
   },
   "source": [
    "# About\n",
    "\n",
    "The goal of this seminar is to consider Hierarchical Clustering and DBSCAN algorithms for clustering."
   ]
  },
  {
   "cell_type": "code",
   "execution_count": null,
   "metadata": {},
   "outputs": [],
   "source": [
    "import pandas as pd\n",
    "import numpy as np\n",
    "import numpy.testing as np_testing\n",
    "import matplotlib.pyplot as plt\n",
    "\n",
    "%matplotlib inline"
   ]
  },
  {
   "cell_type": "markdown",
   "metadata": {
    "collapsed": false
   },
   "source": [
    "# Part 1: Hierarchical Clustering"
   ]
  },
  {
   "cell_type": "markdown",
   "metadata": {
    "collapsed": false
   },
   "source": [
    "## Data Preparation"
   ]
  },
  {
   "cell_type": "code",
   "execution_count": null,
   "metadata": {},
   "outputs": [],
   "source": [
    "from sklearn import datasets\n",
    "\n",
    "n_samples = 150\n",
    "random_state = 170\n",
    "X, y = datasets.make_circles(n_samples=n_samples, factor=.5, noise=.05, random_state=random_state)\n",
    "\n",
    "# To play with\n",
    "# X, y = datasets.make_circles(n_samples=n_samples, factor=.5, noise=.05)\n",
    "# X, y = datasets.make_moons(n_samples=n_samples, noise=.05)\n",
    "# X = np.random.rand(n_samples, 2)"
   ]
  },
  {
   "cell_type": "code",
   "execution_count": null,
   "metadata": {},
   "outputs": [],
   "source": [
    "# example of objects in the feature matrix\n",
    "X[:5]"
   ]
  },
  {
   "cell_type": "code",
   "execution_count": null,
   "metadata": {},
   "outputs": [],
   "source": [
    "# example of cluster labels\n",
    "y[:5]"
   ]
  },
  {
   "cell_type": "code",
   "execution_count": null,
   "metadata": {},
   "outputs": [],
   "source": [
    "# we will use the function below to plot clusters and results of clustering algorithms\n",
    "\n",
    "def plot_clusters(X, y):\n",
    "\n",
    "    # Create an figure with a custom size\n",
    "    # plt.figure(figsize=(6, 4))\n",
    "    \n",
    "    if y is not None:\n",
    "        for cluster_label in np.unique(y):\n",
    "            # Plot all objects with y == i (class 0)\n",
    "            plt.scatter(X[y == cluster_label, 0],     # selects all objects with y == i and the 1st column of X\n",
    "                        X[y == cluster_label, 1],     # selects all objects with y == i and the 2nd column of X\n",
    "                        label=str(cluster_label))     # label for the plot legend\n",
    "    else:\n",
    "        plt.scatter(X[:, 0], X[:, 1], label='samples')\n",
    "\n",
    "    plt.xlabel('X1', size=12) # set up X-axis label\n",
    "    plt.ylabel('X2', size=12) # set up Y-axis label\n",
    "    plt.xticks(size=12)\n",
    "    plt.yticks(size=12)\n",
    "\n",
    "    plt.legend(loc='best', fontsize=12) # create the plot legend and set up it position\n",
    "    plt.grid(b=1) # create grid on the plot\n",
    "\n",
    "    plt.show() # display the plot"
   ]
  },
  {
   "cell_type": "code",
   "execution_count": null,
   "metadata": {},
   "outputs": [],
   "source": [
    "# show clusters in the sample\n",
    "plt.figure(figsize=(6, 6))\n",
    "plot_clusters(X, y=None)"
   ]
  },
  {
   "cell_type": "markdown",
   "metadata": {
    "collapsed": false
   },
   "source": [
    "## Agglomerative Clustering\n",
    "\n",
    "<center><img src=\"img/agglo_1.png\"></center>\n",
    "\n",
    "[image link](https://www.brandidea.com/hierarchicalclustering.html)"
   ]
  },
  {
   "cell_type": "markdown",
   "metadata": {
    "collapsed": false
   },
   "source": [
    "Algorithm:\n",
    "\n",
    "<center><img src=\"img/agglo_algo.png\" width=\"600\"></center>"
   ]
  },
  {
   "cell_type": "code",
   "execution_count": null,
   "metadata": {},
   "outputs": [],
   "source": [
    "from scipy.cluster.hierarchy import fcluster, dendrogram, linkage\n",
    "\n",
    "# calculate distance matrix between points and clusters\n",
    "Z = linkage(X, method='complete', metric='euclidean')"
   ]
  },
  {
   "cell_type": "code",
   "execution_count": null,
   "metadata": {},
   "outputs": [],
   "source": [
    "# plot dendrogram using the linkage matrix\n",
    "\n",
    "plt.figure(figsize=(15, 5))\n",
    "\n",
    "dend = dendrogram(Z, labels=np.arange(len(X)), orientation='top')\n",
    "\n",
    "plt.yticks(size=14)\n",
    "plt.xticks(size=5)\n",
    "plt.ylabel(\"Distance between clusters\", size=14)\n",
    "plt.xlabel(\"Object IDs\", size=14)\n",
    "plt.show()"
   ]
  },
  {
   "cell_type": "code",
   "execution_count": null,
   "metadata": {},
   "outputs": [],
   "source": [
    "# find clusters using the linkage matrix\n",
    "y_pred = fcluster(Z, 2, criterion='maxclust')"
   ]
  },
  {
   "cell_type": "code",
   "execution_count": null,
   "metadata": {},
   "outputs": [],
   "source": [
    "# plot clustering results\n",
    "plot_clusters(X, y_pred)"
   ]
  },
  {
   "cell_type": "markdown",
   "metadata": {
    "collapsed": false
   },
   "source": [
    "### Task 1\n",
    "\n",
    "Using example above, find the best hyperparameters of the agglomerative clustering algorithm.\n",
    "\n",
    "**Hint:** try different kinds of linkage methods between clusters."
   ]
  },
  {
   "cell_type": "code",
   "execution_count": null,
   "metadata": {
    "deletable": false,
    "nbgrader": {
     "cell_type": "code",
     "checksum": "259605c4255c2c7ecf5123c3eef9e041",
     "grade": false,
     "grade_id": "6fbfcb_ans",
     "locked": false,
     "schema_version": 3,
     "solution": true,
     "task": false
    }
   },
   "outputs": [],
   "source": [
    "def my_best_agglo_clustering(X):\n",
    "    \"\"\"\n",
    "    My agglomerative clusterer with the best hyperparameters.\n",
    "\n",
    "    Parameters:\n",
    "    -----------\n",
    "    X: numpy.array\n",
    "        Object coordinates.\n",
    "    \n",
    "    Returns:\n",
    "    --------\n",
    "    y_pred: numpy.array\n",
    "        Estimated cluster labels.\n",
    "    \"\"\"\n",
    "    \n",
    "    # Z = ...\n",
    "    # y_pred = ...\n",
    "    # your code here\n",
    "    raise NotImplementedError\n",
    "    \n",
    "    return y_pred"
   ]
  },
  {
   "cell_type": "code",
   "execution_count": null,
   "metadata": {},
   "outputs": [],
   "source": [
    "y_pred_best = my_best_agglo_clustering(X)\n",
    "y_pred_best[:20]"
   ]
  },
  {
   "cell_type": "markdown",
   "metadata": {
    "collapsed": false
   },
   "source": [
    "Expected output:\n",
    "\n",
    "<center>   \n",
    "    \n",
    "```python\n",
    "array([2, 1, 1, 2, 2, 1, 1, 1, 1, 1, 1, 2, 1, 2, 1, 2, 2, 1, 2, 2], dtype=int32)\n",
    "    \n",
    "``` \n",
    "    \n",
    "</center>"
   ]
  },
  {
   "cell_type": "code",
   "execution_count": null,
   "metadata": {
    "deletable": false,
    "editable": false,
    "nbgrader": {
     "cell_type": "code",
     "checksum": "cabc722486b2fb2f66d9736f4ee144fc",
     "grade": true,
     "grade_id": "6fbfcb",
     "locked": true,
     "points": 1,
     "schema_version": 3,
     "solution": false,
     "task": false
    }
   },
   "outputs": [],
   "source": []
  },
  {
   "cell_type": "code",
   "execution_count": null,
   "metadata": {},
   "outputs": [],
   "source": [
    "# plot clustering results\n",
    "plot_clusters(X, y_pred_best)"
   ]
  },
  {
   "cell_type": "markdown",
   "metadata": {
    "collapsed": false
   },
   "source": [
    "## Cophenetic correlation\n",
    "\n",
    "**Cophenetic distance** between objects $x_i$ and $x_j$ - height of dendrogram at which whose two objects have merged:\n",
    "\n",
    "<center><img src=\"img/dendro2.png\"></center>\n",
    "\n",
    "\\\n",
    "\n",
    "**Cophenetic correlation** is correlation between Cophenetic distance $coph(x_i, x_j)$ and simple distance $d(x_i, x_j)$ between objects:\n",
    "\n",
    "$$\n",
    "CophCorr = \\frac{\\sum_{i<j} (d(x_i, x_j) - \\bar{d})(coph(x_i, x_j) - \\bar{coph})}{\\sqrt{\\sum_{i<j} (d(x_i, x_j) - \\bar{d})^2\\sum_{i<j}(coph(x_i, x_j) - \\bar{coph})^2}}\n",
    "$$\n",
    "\n",
    "Usisally, if dendrogram is good, correlation should be high."
   ]
  },
  {
   "cell_type": "markdown",
   "metadata": {
    "collapsed": false
   },
   "source": [
    "### Food Clustering\n",
    "\n",
    "Consider the following sample of nutritional value of products. It contains the following columns:\n",
    "\n",
    "- \"Name\" is the name of the item.\n",
    "- \"Energy\" is the number of calories.\n",
    "- \"Protein\" is the amount of protein in grams.\n",
    "- \"Fat\" is the amount of fat in grams.\n",
    "- \"Calcium\" is the amount of calcium in milligrams.\n",
    "- \"Iron\" is the amount of iron in milligrams."
   ]
  },
  {
   "cell_type": "code",
   "execution_count": null,
   "metadata": {},
   "outputs": [],
   "source": [
    "# read the data\n",
    "df = pd.read_csv('data/food.txt', sep=' ')\n",
    "df.head()"
   ]
  },
  {
   "cell_type": "code",
   "execution_count": null,
   "metadata": {},
   "outputs": [],
   "source": [
    "# prerape matrix X\n",
    "X = df.iloc[:, 1:]\n",
    "# make the same scale for all object features\n",
    "X = (X - X.mean(axis=0)) / X.std(axis=0)"
   ]
  },
  {
   "cell_type": "code",
   "execution_count": null,
   "metadata": {},
   "outputs": [],
   "source": [
    "from scipy.cluster.hierarchy import fcluster, dendrogram, linkage, cophenet\n",
    "from scipy.spatial.distance import pdist\n",
    "\n",
    "# calculate distance matrix between points and clusters\n",
    "Z = linkage(X, method='complete', metric='euclidean')\n",
    "\n",
    "# plot dendrogram\n",
    "plt.figure(figsize=(6, 6))\n",
    "names = df.Name.values\n",
    "dend = dendrogram(Z, labels=names, orientation='left')"
   ]
  },
  {
   "cell_type": "code",
   "execution_count": null,
   "metadata": {},
   "outputs": [],
   "source": [
    "# complute cophenetic correlation\n",
    "corr, coph_dists = cophenet(Z, pdist(X))\n",
    "print(\"Cophenetic correlation: \", corr)"
   ]
  },
  {
   "cell_type": "code",
   "execution_count": null,
   "metadata": {},
   "outputs": [],
   "source": [
    "# select clusters with the max distance 2.5 between them\n",
    "y_pred = fcluster(Z, 2.5, criterion='distance')"
   ]
  },
  {
   "cell_type": "code",
   "execution_count": null,
   "metadata": {},
   "outputs": [],
   "source": [
    "# add labels to the data\n",
    "df.loc[:, 'labels'] = y_pred\n",
    "\n",
    "# display clusters of products\n",
    "for i, gr in df.groupby('labels'):\n",
    "    print('Cluster {}'.format(i))\n",
    "    display(gr)"
   ]
  },
  {
   "cell_type": "markdown",
   "metadata": {
    "collapsed": false
   },
   "source": [
    "### Task 2\n",
    "\n",
    "Using the example above, find a linkage method ('complete', 'single', 'average', 'centroid', 'ward') that provides the highest cophenetic correlation. Then, plot the dendrogram and find clusters with the max distance 2.5 between them. "
   ]
  },
  {
   "cell_type": "code",
   "execution_count": null,
   "metadata": {
    "deletable": false,
    "nbgrader": {
     "cell_type": "code",
     "checksum": "405c0c8c8c48613acf659818f7d741fb",
     "grade": false,
     "grade_id": "992c58_ans",
     "locked": false,
     "schema_version": 3,
     "solution": true,
     "task": false
    }
   },
   "outputs": [],
   "source": [
    "Z_best = None\n",
    "corr_best = 0\n",
    "method_best = None\n",
    "\n",
    "for method in ['complete', 'single', 'average', 'centroid', 'ward']:\n",
    "    \n",
    "    # Z = ...\n",
    "    # corr, coph_dists = ...\n",
    "    # your code here\n",
    "    raise NotImplementedError\n",
    "    \n",
    "    # check if it is better\n",
    "    if corr > corr_best:\n",
    "        corr_best = corr\n",
    "        Z_best = Z\n",
    "        method_best = method\n",
    "print(\"The best method: \", method_best)\n",
    "\n",
    "\n",
    "\n",
    "# plot dendrogram\n",
    "plt.figure(figsize=(6, 6))\n",
    "names = df.Name.values\n",
    "dend = dendrogram(Z_best, labels=names, orientation='left')\n",
    "plt.show()\n",
    "    \n",
    "# select clusters with the max distance 2.5 between them\n",
    "y_pred = fcluster(Z_best, 2.5, criterion='distance')\n",
    "\n",
    "# add labels to the data\n",
    "df.loc[:, 'labels'] = y_pred\n",
    "# display clusters of products\n",
    "for i, gr in df.groupby('labels'):\n",
    "    print('Cluster {}'.format(i))\n",
    "    display(gr)\n",
    "\n",
    "print(\"Output: \", y_pred[:20])"
   ]
  },
  {
   "cell_type": "markdown",
   "metadata": {
    "collapsed": false
   },
   "source": [
    "Expected output:\n",
    "\n",
    "<center>   \n",
    "    \n",
    "```python\n",
    "Output: [2 3 2 2 3 3 3 4 3 2 2 2 2 3 3 3 1 1 3 3]\n",
    "    \n",
    "``` \n",
    "    \n",
    "</center>"
   ]
  },
  {
   "cell_type": "code",
   "execution_count": null,
   "metadata": {
    "deletable": false,
    "editable": false,
    "nbgrader": {
     "cell_type": "code",
     "checksum": "467de9d82fdadc87a5693a3f4ef59b9f",
     "grade": true,
     "grade_id": "992c58",
     "locked": true,
     "points": 1,
     "schema_version": 3,
     "solution": false,
     "task": false
    }
   },
   "outputs": [],
   "source": []
  },
  {
   "cell_type": "markdown",
   "metadata": {
    "collapsed": false
   },
   "source": [
    "# Part 2: DBSCAN"
   ]
  },
  {
   "cell_type": "markdown",
   "metadata": {
    "collapsed": false
   },
   "source": [
    "<center><img src=\"img/dbscan.png\" width=\"400\"></center>"
   ]
  },
  {
   "cell_type": "markdown",
   "metadata": {
    "collapsed": false
   },
   "source": [
    "## Data Preparation"
   ]
  },
  {
   "cell_type": "code",
   "execution_count": null,
   "metadata": {},
   "outputs": [],
   "source": [
    "from sklearn import datasets\n",
    "\n",
    "n_samples = 200\n",
    "random_state = 170\n",
    "X, y = datasets.make_moons(n_samples=n_samples, noise=0.075, random_state=random_state)\n",
    "\n",
    "# To play with\n",
    "# X, y = datasets.make_circles(n_samples=n_samples, factor=.5, noise=.05)\n",
    "# X, y = datasets.make_moons(n_samples=n_samples, noise=.05)\n",
    "# X = np.random.rand(n_samples, 2)"
   ]
  },
  {
   "cell_type": "code",
   "execution_count": null,
   "metadata": {},
   "outputs": [],
   "source": [
    "from sklearn.cluster import DBSCAN\n",
    "\n",
    "# run clusterer\n",
    "clusterer = DBSCAN(eps=0.15, min_samples=5)\n",
    "y_pred = clusterer.fit_predict(X)\n",
    "\n",
    "# plot clustering results\n",
    "plot_clusters(X, y_pred)"
   ]
  },
  {
   "cell_type": "markdown",
   "metadata": {
    "collapsed": false
   },
   "source": [
    "### Task 3\n",
    "Try to find optimal values of `eps` and `min_samples` parameters above to achieve the best clustering results. How are you going to do this?"
   ]
  },
  {
   "cell_type": "markdown",
   "metadata": {
    "collapsed": false
   },
   "source": [
    "How to select parameters of DBSCAN algorithm properly? One more **elbow** method!"
   ]
  },
  {
   "cell_type": "code",
   "execution_count": null,
   "metadata": {},
   "outputs": [],
   "source": [
    "from sklearn.neighbors import NearestNeighbors\n",
    "\n",
    "k = 10\n",
    "\n",
    "# estimate k neighbors for each point in X\n",
    "nn = NearestNeighbors(n_neighbors=k)\n",
    "nn.fit(X)\n",
    "\n",
    "# calculate distances for each of k nearest neighbors\n",
    "dists, _ = nn.kneighbors(X, n_neighbors=k)\n",
    "\n",
    "# take distaces only for the k-th neighbors\n",
    "dist_kth = dists[:, k-1]\n",
    "\n",
    "# sort the distances\n",
    "dist_kth.sort()"
   ]
  },
  {
   "cell_type": "code",
   "execution_count": null,
   "metadata": {},
   "outputs": [],
   "source": [
    "plt.figure(figsize=(9, 6))\n",
    "plt.plot(dist_kth, linewidth=3, label='Distance to the k-th neighbor')\n",
    "plt.xlabel('Point number', size=16)\n",
    "plt.ylabel('Distance', size=16)\n",
    "plt.yticks(size=16)\n",
    "plt.legend(loc='best', fontsize=16)\n",
    "plt.grid(b=1)\n",
    "plt.show()"
   ]
  },
  {
   "cell_type": "code",
   "execution_count": null,
   "metadata": {},
   "outputs": [],
   "source": []
  }
 ],
 "metadata": {
  "kernelspec": {
   "display_name": "Python 3",
   "language": "python",
   "name": "python3"
  },
  "language_info": {
   "codemirror_mode": {
    "name": "ipython",
    "version": 3
   },
   "file_extension": ".py",
   "mimetype": "text/x-python",
   "name": "python",
   "nbconvert_exporter": "python",
   "pygments_lexer": "ipython3",
   "version": "3.6.9"
  }
 },
 "nbformat": 4,
 "nbformat_minor": 4
}
