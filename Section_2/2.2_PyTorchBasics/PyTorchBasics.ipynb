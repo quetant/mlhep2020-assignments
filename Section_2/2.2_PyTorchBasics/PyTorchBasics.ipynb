{
 "cells": [
  {
   "cell_type": "markdown",
   "metadata": {
    "colab_type": "text",
    "id": "hPwhujdjo3k5"
   },
   "source": [
    "# Hello, pytorch\n",
    "\n",
    "![img](https://pytorch.org/tutorials/_static/pytorch-logo-dark.svg)\n",
    "\n",
    "[PyTrorch](http://pytorch.org/) and [TensorFlow](https://www.tensorflow.org/) are two of the most commonly used deep learning frameworks. Both of these tools are notable for their ability to compute gradients automatically and do operations on GPU, which can be by orders of magnitude faster than running on CPU. Both libraries serve the same purpose, choosing between them is a matter of preference.\n",
    "\n",
    "In this school, we'll use PyTorch for our practical examples.\n",
    "\n",
    "We'll start from using the low-level core of PyTorch, and then try out some high-level features."
   ]
  },
  {
   "cell_type": "code",
   "execution_count": null,
   "metadata": {
    "colab": {
     "base_uri": "https://localhost:8080/",
     "height": 34
    },
    "colab_type": "code",
    "id": "NNrNWnHdo3k_",
    "outputId": "ce52175d-6386-41bd-d65a-205375841398"
   },
   "outputs": [],
   "source": [
    "import numpy as np\n",
    "import torch\n",
    "print(torch.__version__)"
   ]
  },
  {
   "cell_type": "code",
   "execution_count": null,
   "metadata": {
    "colab": {
     "base_uri": "https://localhost:8080/",
     "height": 408
    },
    "colab_type": "code",
    "id": "IxA0RQjgo3lD",
    "outputId": "cd849181-54ed-4d80-ffc3-e92bc85acf91"
   },
   "outputs": [],
   "source": [
    "# numpy world\n",
    "\n",
    "x = np.arange(16).reshape(4, 4)\n",
    "\n",
    "print(f\"X :\\n{             x}\")\n",
    "print(f\"X.shape : {        x.shape}\")\n",
    "print(f\"add 5 :\\n{         x + 5}\")\n",
    "print(f\"X*X^T :\\n{         x @ x.T}\")\n",
    "print(f\"mean over rows :\\n{x.mean(axis=-1)}\")\n",
    "print(f\"cumsum of cols :\\n{x.cumsum(axis=0)}\")"
   ]
  },
  {
   "cell_type": "code",
   "execution_count": null,
   "metadata": {
    "colab": {
     "base_uri": "https://localhost:8080/",
     "height": 408
    },
    "colab_type": "code",
    "id": "IHeXkB2uo3lG",
    "outputId": "19022824-0899-434e-ef8c-8a7075d60514"
   },
   "outputs": [],
   "source": [
    "# pytorch world\n",
    "\n",
    "x = np.arange(16).reshape(4, 4)\n",
    "\n",
    "x = torch.tensor(x, dtype=torch.float32)  # or torch.arange(0,16).reshape(4,4).to(torch.float32)\n",
    "\n",
    "print(f\"X :\\n{             x}\")\n",
    "print(f\"X.shape : {        x.shape}\")\n",
    "print(f\"add 5 :\\n{         x + 5}\")\n",
    "print(f\"X*X^T :\\n{         x @ x.T}\")\n",
    "print(f\"mean over rows :\\n{x.mean(axis=-1)}\")\n",
    "print(f\"cumsum of cols :\\n{x.cumsum(axis=0)}\")"
   ]
  },
  {
   "cell_type": "markdown",
   "metadata": {
    "colab_type": "text",
    "id": "2ilWmbfho3lJ"
   },
   "source": [
    "## NumPy and Pytorch\n",
    "\n",
    "As you can notice, pytorch allows you to hack stuff much the same way you did with numpy. The syntax is in some ways compatible with numpy (as in the example above), [to some extent](https://github.com/pytorch/pytorch/issues/38349).\n",
    "\n",
    "Though original naming conventions in PyTorch are a bit different, so if you look up documentation to various functions you may notice for example patameter name `dim` instead of `axis`.\n",
    "\n",
    "Also type conversions need be done explicitly. So operations that cannot be done on current type will raise an error rather than converting the tensor:"
   ]
  },
  {
   "cell_type": "code",
   "execution_count": null,
   "metadata": {
    "colab": {
     "base_uri": "https://localhost:8080/",
     "height": 181
    },
    "colab_type": "code",
    "id": "ceofy-Ai8nlE",
    "outputId": "eb06663b-3d0b-4b08-bd40-b2da50c603e5"
   },
   "outputs": [],
   "source": [
    "x = torch.arange(5)\n",
    "x.mean() # instead try: `x.to(float).mean()`"
   ]
  },
  {
   "cell_type": "code",
   "execution_count": null,
   "metadata": {
    "colab": {},
    "colab_type": "code",
    "id": "vBl7ltC1ey8N"
   },
   "outputs": [],
   "source": [
    "x = torch.tensor([1, 2])\n",
    "x /= 2.0 # instead try: `x /= 2`\n",
    "x"
   ]
  },
  {
   "cell_type": "markdown",
   "metadata": {
    "colab_type": "text",
    "id": "rRQWbIVN91cX"
   },
   "source": [
    "Converting tensors back to numpy:"
   ]
  },
  {
   "cell_type": "code",
   "execution_count": null,
   "metadata": {
    "colab": {},
    "colab_type": "code",
    "id": "l5OX0YoB9zEz"
   },
   "outputs": [],
   "source": [
    "x = torch.ones(size=(3, 5))\n",
    "x.numpy()"
   ]
  },
  {
   "cell_type": "markdown",
   "metadata": {
    "colab_type": "text",
    "id": "ZsoiU8soo3lJ"
   },
   "source": [
    "## Warmup: trigonometric knotwork\n",
    "_inspired by [this post](https://www.quora.com/What-are-the-most-interesting-equation-plots)_\n",
    "\n",
    "There are some simple mathematical functions with cool plots. For one, consider this:\n",
    "\n",
    "$$ x(t) = t - 1.5 * cos( 15 t) $$\n",
    "$$ y(t) = t - 1.5 * sin( 16 t) $$\n"
   ]
  },
  {
   "cell_type": "code",
   "execution_count": null,
   "metadata": {
    "colab": {
     "base_uri": "https://localhost:8080/",
     "height": 265
    },
    "colab_type": "code",
    "deletable": false,
    "id": "idIzhABXo3lK",
    "nbgrader": {
     "cell_type": "code",
     "checksum": "78770e3703fb53c4907d605fb7202d33",
     "grade": false,
     "grade_id": "cell-f25d51ba383f981a",
     "locked": false,
     "schema_version": 3,
     "solution": true,
     "task": false
    },
    "outputId": "cf83a67d-845e-480c-bdaa-ba0a2ff9cd7f"
   },
   "outputs": [],
   "source": [
    "import matplotlib.pyplot as plt\n",
    "%matplotlib inline\n",
    "\n",
    "t = torch.linspace(-10, 10, steps=10000)\n",
    "\n",
    "# compute x=x(t) and y=y(t) as defined above\n",
    "# your code here\n",
    "raise NotImplementedError\n",
    "\n",
    "plt.plot(x.numpy(), y.numpy());"
   ]
  },
  {
   "cell_type": "code",
   "execution_count": null,
   "metadata": {
    "colab": {},
    "colab_type": "code",
    "deletable": false,
    "editable": false,
    "id": "Fue83PKCAq2O",
    "nbgrader": {
     "cell_type": "code",
     "checksum": "0dad6fd35668785873e27303607d28ff",
     "grade": true,
     "grade_id": "LowLevelPyTorch",
     "locked": true,
     "points": 1,
     "schema_version": 3,
     "solution": false,
     "task": false
    }
   },
   "outputs": [],
   "source": [
    "assert np.isclose(x[42].item(), -9.2157)\n",
    "assert np.isclose(y[1990].item(), -4.6997)\n"
   ]
  },
  {
   "cell_type": "markdown",
   "metadata": {
    "colab_type": "text",
    "id": "Frw3xwP6o3lN"
   },
   "source": [
    "--------"
   ]
  },
  {
   "cell_type": "markdown",
   "metadata": {
    "colab_type": "text",
    "id": "REoFWIZDo3lO"
   },
   "source": [
    "## Automatic gradients\n",
    "\n",
    "Any self-respecting DL framework must do your backprop for you. Torch handles this with the `autograd` module.\n",
    "\n",
    "The general pipeline looks like this:\n",
    "* When creating a tensor, you mark it as `requires_grad`:\n",
    "    * __```torch.zeros(5, requires_grad=True)```__\n",
    "    * __```torch.tensor(np.arange(5), dtype=torch.float32, requires_grad=True)```__\n",
    "* Define some differentiable `y = arbitrary_function(x)`\n",
    "* Call `y.backward()`\n",
    "* Gradients are now available as ```x.grad```\n",
    "\n",
    "__Here's a few examples:__"
   ]
  },
  {
   "cell_type": "code",
   "execution_count": null,
   "metadata": {
    "colab": {
     "base_uri": "https://localhost:8080/",
     "height": 34
    },
    "colab_type": "code",
    "id": "gwcTNRj-NXUi",
    "outputId": "808477da-3ce9-414a-f122-d38f3aeb5234"
   },
   "outputs": [],
   "source": [
    "x = torch.tensor(0., requires_grad=True)\n",
    "y = torch.sin(x)\n",
    "y.backward()\n",
    "x.grad"
   ]
  },
  {
   "cell_type": "code",
   "execution_count": null,
   "metadata": {
    "colab": {
     "base_uri": "https://localhost:8080/",
     "height": 51
    },
    "colab_type": "code",
    "id": "T8d1DXhwo3lS",
    "outputId": "49f3bbca-cc97-4c49-a7cb-78613eb53b01"
   },
   "outputs": [],
   "source": [
    "# Remember we defined MSE loss with its gradient last week?\n",
    "# With torch we could've skipped the gradient part:\n",
    "\n",
    "def MSELoss(y, yhat):\n",
    "    return ((y - yhat)**2).mean()\n",
    "\n",
    "y = torch.normal(0., 1., size=(100,))\n",
    "yhat = torch.normal(0., 1., size=(100,), requires_grad=True)\n",
    "\n",
    "loss = MSELoss(y, yhat)\n",
    "loss.backward()\n",
    "\n",
    "print(\"Checking autograd result equals to analytical derivative.\")\n",
    "print(\"    check result:\", torch.allclose(yhat.grad, 2 * (yhat - y) / y.shape[0]))"
   ]
  },
  {
   "cell_type": "markdown",
   "metadata": {
    "colab_type": "text",
    "id": "Wrxw5I2AOZ2a"
   },
   "source": [
    "__Note:__ calling `backward` multiple times accumulates the sum of gradients:"
   ]
  },
  {
   "cell_type": "code",
   "execution_count": null,
   "metadata": {
    "colab": {
     "base_uri": "https://localhost:8080/",
     "height": 68
    },
    "colab_type": "code",
    "id": "ua1wLiuROb7i",
    "outputId": "ab4f5747-6275-4a27-9d4a-7dc0ff5779f4"
   },
   "outputs": [],
   "source": [
    "x = torch.tensor(0., requires_grad=True)\n",
    "y1 = torch.sin(x)\n",
    "y2 = torch.sin(x)\n",
    "\n",
    "print(\"x.grad =\", x.grad)\n",
    "y1.backward()\n",
    "print(\"x.grad =\", x.grad)\n",
    "y2.backward()\n",
    "print(\"x.grad =\", x.grad)"
   ]
  },
  {
   "cell_type": "markdown",
   "metadata": {
    "colab_type": "text",
    "id": "Flu0aZH2PAOz"
   },
   "source": [
    "so typically when using it inside learning loop you want to zero the accumulated gradients between the consequtive `backward()` calls, e.g.:"
   ]
  },
  {
   "cell_type": "code",
   "execution_count": null,
   "metadata": {
    "colab": {
     "base_uri": "https://localhost:8080/",
     "height": 265
    },
    "colab_type": "code",
    "id": "2ueKVXDYPOwJ",
    "outputId": "6d598a5e-f1b7-42fa-8aed-0b4a618e553a"
   },
   "outputs": [],
   "source": [
    "# Generate linear data:\n",
    "x = torch.tensor(np.random.uniform(-3, 5, 100), dtype=torch.float32)\n",
    "y = 2.5 * x + torch.normal(mean=0., std=0.4, size=x.shape)\n",
    "\n",
    "w = torch.tensor(0., dtype=torch.float32, requires_grad=True)\n",
    "w_values_history = [\n",
    "    w.item() # this returns a python number with the value of the tensor\n",
    "]\n",
    "\n",
    "for _ in range(100):\n",
    "    loss = MSELoss(y, w * x)\n",
    "    loss.backward()\n",
    "    with torch.no_grad(): #  = \"don't calculate gradients in the block below\"\n",
    "        w -= 0.01 * w.grad\n",
    "\n",
    "    w.grad.zero_() # just for the lulz try commenting this out\n",
    "    w_values_history.append(w.item())\n",
    "\n",
    "plt.plot(w_values_history);"
   ]
  },
  {
   "cell_type": "markdown",
   "metadata": {
    "colab_type": "text",
    "id": "Nn3rtUs-WwaF"
   },
   "source": [
    "Calling `backward()` for a tensor:"
   ]
  },
  {
   "cell_type": "code",
   "execution_count": null,
   "metadata": {
    "colab": {
     "base_uri": "https://localhost:8080/",
     "height": 265
    },
    "colab_type": "code",
    "id": "1UMLi0TbIsG7",
    "outputId": "7d95bbae-f13e-4cc6-c115-50fa836b6d6f"
   },
   "outputs": [],
   "source": [
    "x = torch.linspace(-2, 2, 1000, requires_grad=True)\n",
    "y = x**2\n",
    "\n",
    "# Note: since `x` and `y` are both vectors, the derivative is\n",
    "# defined in the form of Jacobian dy/dx.\n",
    "# For such cases `backward()` is implemented to calculate\n",
    "# the Jacobian multiplied by some other vector that you\n",
    "# have to provide as an argument e.g. `y.backward(some_vector)` -\n",
    "# this will return Jacobian dy/dx times `some_vector`.\n",
    "\n",
    "# Since our Jacobian is diagonal, the following code will return\n",
    "# per-element derivative values:\n",
    "y.backward(torch.ones_like(y))\n",
    "\n",
    "plt.plot(x.detach(), y.detach(), label='y = x^2')\n",
    "plt.plot(x.detach(), x.grad, label=\"dy/dx\")\n",
    "plt.legend();\n",
    "plt.grid(True);"
   ]
  },
  {
   "cell_type": "markdown",
   "metadata": {
    "colab_type": "text",
    "id": "GwTeanCqNqsd"
   },
   "source": [
    "Second derivative example:"
   ]
  },
  {
   "cell_type": "code",
   "execution_count": null,
   "metadata": {
    "colab": {
     "base_uri": "https://localhost:8080/",
     "height": 265
    },
    "colab_type": "code",
    "id": "SvyN3zesLbEQ",
    "outputId": "fab17af1-cb53-4776-b671-fd6a74fc10e7"
   },
   "outputs": [],
   "source": [
    "x = torch.linspace(-2, 2, 1000, requires_grad=True)\n",
    "y = x**3\n",
    "\n",
    "first_derivative, = torch.autograd.grad(\n",
    "    y, x, torch.ones_like(y),\n",
    "    create_graph=True # \"create_graph\" required to be able to calculate derivative of the derivative later\n",
    ")\n",
    "second_derivative, = torch.autograd.grad(first_derivative, x, torch.ones_like(first_derivative))\n",
    "\n",
    "plt.plot(x.detach(), y.detach(), label='y = x^2')\n",
    "plt.plot(x.detach(), first_derivative.detach(), label=\"dy/dx\")\n",
    "plt.plot(x.detach(), second_derivative, label=\"d^2y/dx^2\")\n",
    "plt.legend();\n",
    "plt.grid(True);"
   ]
  },
  {
   "cell_type": "markdown",
   "metadata": {
    "colab_type": "text",
    "id": "yP7BbE_5o3ld"
   },
   "source": [
    "---------------------\n",
    "## High-level pytorch\n",
    "\n",
    "So far we've been dealing with low-level torch API. While it's absolutely vital for any custom losses or layers, building large neura nets in it is a bit clumsy.\n",
    "\n",
    "Luckily, there's also a high-level torch interface with a pre-defined layers, activations and training algorithms. \n",
    "\n",
    "We'll cover them as we go through a simple image recognition problem: classifying handwritten digits.\n"
   ]
  },
  {
   "cell_type": "code",
   "execution_count": null,
   "metadata": {
    "colab": {
     "base_uri": "https://localhost:8080/",
     "height": 34,
     "referenced_widgets": [
      "5c7f1a41bf454c29a3c33358d42009ce",
      "80b94fdd99b5402db2e3d3a388514508",
      "f086b2b0583d4f8984b98e48de2118bf",
      "8c7fe12bbe67492b8de1569e1db852ec",
      "f56d661bdb34417490844c1a93e5cae1",
      "133c3f8995ee4e7084b718e720d136c6",
      "bae5ed8fc70a4df598be89d14c3473d8",
      "aad43136ea74473c845039a35c8b2249",
      "0c2606f4ef5d4e958110680ac979acc5",
      "8750cbb2e65c44bea609c9e965174752",
      "004cd83b7e8b4d3b86352db09efb344d",
      "dbb12da6d450410abb59518302b3e28b",
      "979c69278eea458a987ec0a531dae9bf",
      "a5b40e19d4424a4eb8a12ae6c638d901",
      "5aee6be5fdcf49909ffbea03105d370a",
      "97561c9d627a4cdc9ea0b7052723df96",
      "09cfd604f9c74d0fbf35273298ad8900",
      "4be61ee965ef47a0a060ed40b1b5e8d4",
      "4ceb532ee9d4424ca297ad2a3d189b8e",
      "5ce82af04ec246bdbc1e16bb44bae38a",
      "1fe0cfb56e0f4283b178d21599ec395f",
      "32cdbd7fc1b840feb59014c1ec298eba",
      "02a091b4955f4ab7a334e205abcbc866",
      "92d479d228924b92a84e3da835e5ce3f",
      "dbee07d53a7643469574b49d7b51e1cc",
      "bfd7bb72baf744949bb1ece00a9e69e8",
      "3e527a71a4504f3cbc0068f8cb8fa6aa",
      "52bcd0c3af3e4421ad93db94c654e1bb",
      "ecda9b22ac784313890d83d896921243",
      "dbd749d766794c9385108c8c395705fe",
      "5aaa714d7d174bb8bb311d287f2fe7f3",
      "5be0aa71b06343bda7900fa901065898"
     ]
    },
    "colab_type": "code",
    "id": "X12QM-mNo3le",
    "outputId": "8fb03949-dd84-4ac3-944b-8e39657e3d89"
   },
   "outputs": [],
   "source": [
    "from torchvision.datasets import MNIST\n",
    "from IPython.display import clear_output\n",
    "ds_train = MNIST(\".\", train=True, download=True)\n",
    "ds_test = MNIST(\".\", train=False, download=True)\n",
    "\n",
    "X_train, y_train = ds_train.data.reshape(-1, 784).to(torch.float32) / 255., ds_train.targets\n",
    "X_test, y_test = ds_test.data.reshape(-1, 784).to(torch.float32) / 255., ds_test.targets\n",
    "\n",
    "clear_output()\n",
    "print(f\"Train size = {len(X_train)}, test_size = {len(X_test)}\")"
   ]
  },
  {
   "cell_type": "code",
   "execution_count": null,
   "metadata": {
    "colab": {
     "base_uri": "https://localhost:8080/",
     "height": 407
    },
    "colab_type": "code",
    "id": "ugZMcBbvo3lg",
    "outputId": "0a1e0f64-28fd-47ef-fd1c-212cd772d4d4"
   },
   "outputs": [],
   "source": [
    "plt.figure(figsize=(4, 4), dpi=100)\n",
    "plt.axis('off')\n",
    "plt.imshow(\n",
    "    torch.transpose(\n",
    "        torch.cat(\n",
    "            [X_train[y_train == c][:10] for c in range(10)], axis=0\n",
    "        ).reshape(10, 10, 28, 28),\n",
    "        1, 2\n",
    "    ).reshape(280, 280)\n",
    ");"
   ]
  },
  {
   "cell_type": "markdown",
   "metadata": {
    "colab_type": "text",
    "id": "hdVS5r05o3lj"
   },
   "source": [
    "Let's start with layers."
   ]
  },
  {
   "cell_type": "code",
   "execution_count": null,
   "metadata": {
    "colab": {},
    "colab_type": "code",
    "id": "pEsdKVmWo3lj"
   },
   "outputs": [],
   "source": [
    "from torch import nn\n",
    "import torch.nn.functional as F"
   ]
  },
  {
   "cell_type": "markdown",
   "metadata": {
    "colab_type": "text",
    "id": "2RWEEsouo3lm"
   },
   "source": [
    "There's a vast library of popular layers and architectures already built for ya'.\n",
    "\n",
    "We'll train a single hidden layer fully connected neural network."
   ]
  },
  {
   "cell_type": "code",
   "execution_count": null,
   "metadata": {
    "colab": {},
    "colab_type": "code",
    "id": "F4-feUt5o3lm"
   },
   "outputs": [],
   "source": [
    "# GPU support\n",
    "device = torch.device('cuda' if torch.cuda.is_available() else 'cpu')\n",
    "print(device)\n",
    "\n",
    "# create a network that stacks layers on top of each other\n",
    "model = nn.Sequential(\n",
    "    nn.Linear(784, 100), # add first \"dense\" layer with 784 input\n",
    "                         # units and 100 output units (hidden layer\n",
    "                         # with 100 neurons).\n",
    "    nn.ReLU(),\n",
    "    nn.Linear(100, 10), # \"dense\" layer with 10 output\n",
    "                        # units (for 10 classes).\n",
    ").to(device)"
   ]
  },
  {
   "cell_type": "code",
   "execution_count": null,
   "metadata": {
    "colab": {
     "base_uri": "https://localhost:8080/",
     "height": 102
    },
    "colab_type": "code",
    "id": "a0s0pJ5qo3lp",
    "outputId": "f8fbc194-40f2-4c01-9ddb-c82207962d98"
   },
   "outputs": [],
   "source": [
    "print(\"Weight shapes:\")\n",
    "for w in model.parameters():\n",
    "    print(\"  \", w.shape)"
   ]
  },
  {
   "cell_type": "code",
   "execution_count": null,
   "metadata": {
    "colab": {
     "base_uri": "https://localhost:8080/",
     "height": 34
    },
    "colab_type": "code",
    "id": "mlO3FaEjOwNU",
    "outputId": "f898cb91-fb9a-4d99-e34b-f7679b6e938f"
   },
   "outputs": [],
   "source": [
    "# now we can simply call it on our data to get the model output:\n",
    "prediction = model(X_train.to(device))\n",
    "print(prediction.shape)"
   ]
  },
  {
   "cell_type": "markdown",
   "metadata": {
    "colab_type": "text",
    "id": "ZpGPSLrhPX_m"
   },
   "source": [
    "So far our last layer is linear, with outputs (class scores) possibly taking all values in the range $(-\\infty, +\\infty)$. For training, we can use the same approach as we did for the multinomial logistic regression: model class probabilities and minimize negative log likelihood.\n",
    "\n",
    "Given the ouput $\\mathbf{x}=\\{x_1,...x_K\\}$ of the last layer, the probability modeling can be done with e.g. the **softmax** function:\n",
    "$$P(y=C|\\mathbf{x})=\\frac{\\exp(x_C)}{\\sum_{C'}\\exp(x_{C'})}$$\n",
    "\n",
    "This formula may be numerically unstable for large components of $\\bf{x}$. To avoid that, you can divide both numerator and denominator by $\\exp\\left(\\max x_{C'}\\right)$, and then substitute it into the negative log likelihood.\n",
    "\n",
    "In PyTorch, both this steps are combined in the `torch.nn.CrossEntropyLoss`, which can be used like this:"
   ]
  },
  {
   "cell_type": "code",
   "execution_count": null,
   "metadata": {
    "colab": {
     "base_uri": "https://localhost:8080/",
     "height": 34
    },
    "colab_type": "code",
    "id": "hE9PJ0QbwQTu",
    "outputId": "a6629bf1-1a72-4a36-d2d7-14d52a3a51ec"
   },
   "outputs": [],
   "source": [
    "loss_fn = nn.CrossEntropyLoss()\n",
    "loss_fn(prediction, y_train.to(device))"
   ]
  },
  {
   "cell_type": "markdown",
   "metadata": {
    "colab_type": "text",
    "id": "Zui2lfmPbyXm"
   },
   "source": [
    "One last thing we need — the optimizer. Optimizers are high level objects that implement all those fancy gradient descent modifications - like Adam, RMSprop and others.\n",
    "\n",
    "To use one, simply create that object and pass it the parameters you want it to optimize:"
   ]
  },
  {
   "cell_type": "code",
   "execution_count": null,
   "metadata": {
    "colab": {},
    "colab_type": "code",
    "id": "oEbT9XDEbu3c"
   },
   "outputs": [],
   "source": [
    "opt = torch.optim.Adam(model.parameters(), lr=1e-3)"
   ]
  },
  {
   "cell_type": "markdown",
   "metadata": {
    "colab_type": "text",
    "id": "a57thcI2cUz9"
   },
   "source": [
    "then, inside the training loop you:\n",
    " 1. calculate the gradients (`loss.backward()`)\n",
    " 1. use the optimizer to update the model parameters (`opt.step()`)\n",
    " 1. zero the gradients (`opt.zero_grad()`)"
   ]
  },
  {
   "cell_type": "markdown",
   "metadata": {
    "colab_type": "text",
    "id": "F1QfeWWOcvjh"
   },
   "source": [
    "Here's the training loop:"
   ]
  },
  {
   "cell_type": "code",
   "execution_count": null,
   "metadata": {
    "colab": {
     "base_uri": "https://localhost:8080/",
     "height": 306
    },
    "colab_type": "code",
    "id": "GCH_JV4AxglN",
    "outputId": "d34a4249-fa2d-43a6-9e01-88ab495a0cb5"
   },
   "outputs": [],
   "source": [
    "from tqdm import trange  # utility function to show progress bar\n",
    "\n",
    "num_epochs = 10\n",
    "batch_size = 512\n",
    "\n",
    "# some quantities to plot\n",
    "train_losses = []\n",
    "test_losses = []\n",
    "test_accuracy = []\n",
    "\n",
    "# \"epoch\" = one pass through the dataset\n",
    "for i_epoch in range(num_epochs):\n",
    "    shuffle_ids = np.random.permutation(len(X_train)) # shuffle the data\n",
    "    for idx in trange(0, len(X_train), batch_size):\n",
    "        # get the next chunk (batch) of data:\n",
    "        batch_X = X_train[shuffle_ids][idx : idx + batch_size].to(device)\n",
    "        batch_y = y_train[shuffle_ids][idx : idx + batch_size].to(device)\n",
    "\n",
    "        # all the black magic:\n",
    "        loss = loss_fn(model(batch_X), batch_y)\n",
    "        loss.backward()\n",
    "        opt.step()\n",
    "        opt.zero_grad()\n",
    "\n",
    "        # remember the loss value at this step\n",
    "        train_losses.append(loss.item())\n",
    "\n",
    "    # evaluate test loss and metrics\n",
    "    test_prediction = model(X_test.to(device))\n",
    "    test_losses.append(\n",
    "        loss_fn(test_prediction, y_test.to(device)).item()\n",
    "    )\n",
    "    test_accuracy.append(\n",
    "        (test_prediction.argmax(axis=1) == y_test.to(device)).to(float).mean()\n",
    "    )\n",
    "\n",
    "    # all the rest is simply plotting\n",
    "\n",
    "    clear_output(wait=True)\n",
    "    plt.figure(figsize=(8, 3), dpi=100)\n",
    "    plt.subplot(1, 2, 1)\n",
    "    plt.plot(train_losses, label='train')\n",
    "    plt.plot(\n",
    "        np.linspace(0, len(train_losses), len(test_losses) + 1)[1:],\n",
    "        test_losses, label='test'\n",
    "    )\n",
    "    plt.ylabel(\"Loss\")\n",
    "    plt.xlabel(\"# steps\")\n",
    "    plt.legend();\n",
    "\n",
    "    plt.subplot(1, 2, 2)\n",
    "    plt.plot(test_accuracy)\n",
    "    plt.ylabel(\"Test accuracy\")\n",
    "    plt.xlabel(\"# epochs\");\n",
    "    plt.show()"
   ]
  },
  {
   "cell_type": "markdown",
   "metadata": {
    "colab_type": "text",
    "id": "8XSlalpSo3mC"
   },
   "source": [
    "## XOR problem\n",
    "\n",
    "The best way to learn is to code it yourself. Try building a nerual network to solve the XOR problem below. Can it be solved by a network with no hidden layers?\n",
    "\n",
    "*Hint: for a binary classification loss function consider checking out `torch.nn.BCEWithLogitsLoss`*"
   ]
  },
  {
   "cell_type": "code",
   "execution_count": null,
   "metadata": {
    "colab": {
     "base_uri": "https://localhost:8080/",
     "height": 287
    },
    "colab_type": "code",
    "id": "K2Y5tQc4f4dc",
    "outputId": "22121a76-724c-4402-a0f5-eafbb4dc3e3d"
   },
   "outputs": [],
   "source": [
    "X = np.random.uniform(-1, 1, size=(4000, 2))\n",
    "y = ((X[:,0] >= 0) ^ (X[:,1] >= 0)).astype(int)\n",
    "\n",
    "plt.figure(figsize=(3, 3), dpi=100)\n",
    "plt.scatter(*X.T, c=y, cmap='PiYG', s=5);"
   ]
  },
  {
   "cell_type": "code",
   "execution_count": null,
   "metadata": {
    "colab": {
     "base_uri": "https://localhost:8080/",
     "height": 552
    },
    "colab_type": "code",
    "deletable": false,
    "id": "2hl6TwXxhFHU",
    "nbgrader": {
     "cell_type": "code",
     "checksum": "d5dfa07f5e3ac6f76f745b1bedf9e05a",
     "grade": false,
     "grade_id": "cell-ac2127f579ea9294",
     "locked": false,
     "schema_version": 3,
     "solution": true,
     "task": false
    },
    "outputId": "ca9ddc74-2db6-4bb5-c5b4-f54d6c5c91d3"
   },
   "outputs": [],
   "source": [
    "# Define and train your model below:\n",
    "# model = ...\n",
    "\n",
    "# your code here\n",
    "raise NotImplementedError\n",
    "\n",
    "xx1, xx2 = np.meshgrid(\n",
    "    np.linspace(-1.1, 1.1, 100),\n",
    "    np.linspace(-1.1, 1.1, 100),\n",
    ")\n",
    "yy = model(torch.tensor(\n",
    "    np.stack([xx1.ravel(), xx2.ravel()], axis=1),\n",
    "    dtype=torch.float32\n",
    ").to(device)).cpu().detach().numpy().reshape(xx1.shape)\n",
    "\n",
    "plt.figure(figsize=(3, 3), dpi=100)\n",
    "plt.contourf(xx1, xx2, yy, levels=20, cmap='PiYG', alpha=0.7)\n",
    "plt.scatter(*X.T, c=y, cmap='PiYG', s=1);"
   ]
  },
  {
   "cell_type": "code",
   "execution_count": null,
   "metadata": {
    "colab": {
     "base_uri": "https://localhost:8080/",
     "height": 34
    },
    "colab_type": "code",
    "deletable": false,
    "editable": false,
    "id": "Ym00cAP0m0qy",
    "nbgrader": {
     "cell_type": "code",
     "checksum": "4150eff743923dc1d62bd5f2567f2904",
     "grade": true,
     "grade_id": "XOR",
     "locked": true,
     "points": 1,
     "schema_version": 3,
     "solution": false,
     "task": false
    },
    "outputId": "aee74364-7e54-484a-998d-678819eed5a9"
   },
   "outputs": [],
   "source": [
    "assert isinstance(model, nn.Module)\n",
    "\n",
    "np.random.seed(42)\n",
    "X = np.random.uniform(-1, 1, size=(4000, 2))\n",
    "y = ((X[:,0] >= 0) ^ (X[:,1] >= 0)).astype(int)\n",
    "\n",
    "prediction = model(\n",
    "    torch.tensor(X, dtype=torch.float32).to(device)\n",
    ").cpu().detach().numpy().squeeze()\n",
    "accuracy = ((prediction > 0.).astype(int) == y).mean()\n",
    "print(\"Accuracy:\", accuracy)\n",
    "assert accuracy > 0.95"
   ]
  },
  {
   "cell_type": "code",
   "execution_count": null,
   "metadata": {
    "colab": {},
    "colab_type": "code",
    "id": "oqOB_up6r8JO"
   },
   "outputs": [],
   "source": []
  }
 ],
 "metadata": {
  "accelerator": "GPU",
  "colab": {
   "collapsed_sections": [
    "0Z_dTVxKo3mF",
    "giIUtaJGo3mS"
   ],
   "name": "Pytorch.ipynb",
   "provenance": []
  },
  "kernelspec": {
   "display_name": "Python 3",
   "language": "python",
   "name": "python3"
  },
  "language_info": {
   "codemirror_mode": {
    "name": "ipython",
    "version": 3
   },
   "file_extension": ".py",
   "mimetype": "text/x-python",
   "name": "python",
   "nbconvert_exporter": "python",
   "pygments_lexer": "ipython3",
   "version": "3.7.6"
  },
  "widgets": {
   "application/vnd.jupyter.widget-state+json": {
    "004cd83b7e8b4d3b86352db09efb344d": {
     "model_module": "@jupyter-widgets/controls",
     "model_name": "FloatProgressModel",
     "state": {
      "_dom_classes": [],
      "_model_module": "@jupyter-widgets/controls",
      "_model_module_version": "1.5.0",
      "_model_name": "FloatProgressModel",
      "_view_count": null,
      "_view_module": "@jupyter-widgets/controls",
      "_view_module_version": "1.5.0",
      "_view_name": "ProgressView",
      "bar_style": "success",
      "description": "",
      "description_tooltip": null,
      "layout": "IPY_MODEL_a5b40e19d4424a4eb8a12ae6c638d901",
      "max": 1,
      "min": 0,
      "orientation": "horizontal",
      "style": "IPY_MODEL_979c69278eea458a987ec0a531dae9bf",
      "value": 1
     }
    },
    "02a091b4955f4ab7a334e205abcbc866": {
     "model_module": "@jupyter-widgets/controls",
     "model_name": "DescriptionStyleModel",
     "state": {
      "_model_module": "@jupyter-widgets/controls",
      "_model_module_version": "1.5.0",
      "_model_name": "DescriptionStyleModel",
      "_view_count": null,
      "_view_module": "@jupyter-widgets/base",
      "_view_module_version": "1.2.0",
      "_view_name": "StyleView",
      "description_width": ""
     }
    },
    "09cfd604f9c74d0fbf35273298ad8900": {
     "model_module": "@jupyter-widgets/controls",
     "model_name": "HBoxModel",
     "state": {
      "_dom_classes": [],
      "_model_module": "@jupyter-widgets/controls",
      "_model_module_version": "1.5.0",
      "_model_name": "HBoxModel",
      "_view_count": null,
      "_view_module": "@jupyter-widgets/controls",
      "_view_module_version": "1.5.0",
      "_view_name": "HBoxView",
      "box_style": "",
      "children": [
       "IPY_MODEL_4ceb532ee9d4424ca297ad2a3d189b8e",
       "IPY_MODEL_5ce82af04ec246bdbc1e16bb44bae38a"
      ],
      "layout": "IPY_MODEL_4be61ee965ef47a0a060ed40b1b5e8d4"
     }
    },
    "0c2606f4ef5d4e958110680ac979acc5": {
     "model_module": "@jupyter-widgets/controls",
     "model_name": "HBoxModel",
     "state": {
      "_dom_classes": [],
      "_model_module": "@jupyter-widgets/controls",
      "_model_module_version": "1.5.0",
      "_model_name": "HBoxModel",
      "_view_count": null,
      "_view_module": "@jupyter-widgets/controls",
      "_view_module_version": "1.5.0",
      "_view_name": "HBoxView",
      "box_style": "",
      "children": [
       "IPY_MODEL_004cd83b7e8b4d3b86352db09efb344d",
       "IPY_MODEL_dbb12da6d450410abb59518302b3e28b"
      ],
      "layout": "IPY_MODEL_8750cbb2e65c44bea609c9e965174752"
     }
    },
    "133c3f8995ee4e7084b718e720d136c6": {
     "model_module": "@jupyter-widgets/base",
     "model_name": "LayoutModel",
     "state": {
      "_model_module": "@jupyter-widgets/base",
      "_model_module_version": "1.2.0",
      "_model_name": "LayoutModel",
      "_view_count": null,
      "_view_module": "@jupyter-widgets/base",
      "_view_module_version": "1.2.0",
      "_view_name": "LayoutView",
      "align_content": null,
      "align_items": null,
      "align_self": null,
      "border": null,
      "bottom": null,
      "display": null,
      "flex": null,
      "flex_flow": null,
      "grid_area": null,
      "grid_auto_columns": null,
      "grid_auto_flow": null,
      "grid_auto_rows": null,
      "grid_column": null,
      "grid_gap": null,
      "grid_row": null,
      "grid_template_areas": null,
      "grid_template_columns": null,
      "grid_template_rows": null,
      "height": null,
      "justify_content": null,
      "justify_items": null,
      "left": null,
      "margin": null,
      "max_height": null,
      "max_width": null,
      "min_height": null,
      "min_width": null,
      "object_fit": null,
      "object_position": null,
      "order": null,
      "overflow": null,
      "overflow_x": null,
      "overflow_y": null,
      "padding": null,
      "right": null,
      "top": null,
      "visibility": null,
      "width": null
     }
    },
    "1fe0cfb56e0f4283b178d21599ec395f": {
     "model_module": "@jupyter-widgets/controls",
     "model_name": "ProgressStyleModel",
     "state": {
      "_model_module": "@jupyter-widgets/controls",
      "_model_module_version": "1.5.0",
      "_model_name": "ProgressStyleModel",
      "_view_count": null,
      "_view_module": "@jupyter-widgets/base",
      "_view_module_version": "1.2.0",
      "_view_name": "StyleView",
      "bar_color": null,
      "description_width": "initial"
     }
    },
    "32cdbd7fc1b840feb59014c1ec298eba": {
     "model_module": "@jupyter-widgets/base",
     "model_name": "LayoutModel",
     "state": {
      "_model_module": "@jupyter-widgets/base",
      "_model_module_version": "1.2.0",
      "_model_name": "LayoutModel",
      "_view_count": null,
      "_view_module": "@jupyter-widgets/base",
      "_view_module_version": "1.2.0",
      "_view_name": "LayoutView",
      "align_content": null,
      "align_items": null,
      "align_self": null,
      "border": null,
      "bottom": null,
      "display": null,
      "flex": null,
      "flex_flow": null,
      "grid_area": null,
      "grid_auto_columns": null,
      "grid_auto_flow": null,
      "grid_auto_rows": null,
      "grid_column": null,
      "grid_gap": null,
      "grid_row": null,
      "grid_template_areas": null,
      "grid_template_columns": null,
      "grid_template_rows": null,
      "height": null,
      "justify_content": null,
      "justify_items": null,
      "left": null,
      "margin": null,
      "max_height": null,
      "max_width": null,
      "min_height": null,
      "min_width": null,
      "object_fit": null,
      "object_position": null,
      "order": null,
      "overflow": null,
      "overflow_x": null,
      "overflow_y": null,
      "padding": null,
      "right": null,
      "top": null,
      "visibility": null,
      "width": null
     }
    },
    "3e527a71a4504f3cbc0068f8cb8fa6aa": {
     "model_module": "@jupyter-widgets/controls",
     "model_name": "FloatProgressModel",
     "state": {
      "_dom_classes": [],
      "_model_module": "@jupyter-widgets/controls",
      "_model_module_version": "1.5.0",
      "_model_name": "FloatProgressModel",
      "_view_count": null,
      "_view_module": "@jupyter-widgets/controls",
      "_view_module_version": "1.5.0",
      "_view_name": "ProgressView",
      "bar_style": "success",
      "description": "",
      "description_tooltip": null,
      "layout": "IPY_MODEL_dbd749d766794c9385108c8c395705fe",
      "max": 1,
      "min": 0,
      "orientation": "horizontal",
      "style": "IPY_MODEL_ecda9b22ac784313890d83d896921243",
      "value": 1
     }
    },
    "4be61ee965ef47a0a060ed40b1b5e8d4": {
     "model_module": "@jupyter-widgets/base",
     "model_name": "LayoutModel",
     "state": {
      "_model_module": "@jupyter-widgets/base",
      "_model_module_version": "1.2.0",
      "_model_name": "LayoutModel",
      "_view_count": null,
      "_view_module": "@jupyter-widgets/base",
      "_view_module_version": "1.2.0",
      "_view_name": "LayoutView",
      "align_content": null,
      "align_items": null,
      "align_self": null,
      "border": null,
      "bottom": null,
      "display": null,
      "flex": null,
      "flex_flow": null,
      "grid_area": null,
      "grid_auto_columns": null,
      "grid_auto_flow": null,
      "grid_auto_rows": null,
      "grid_column": null,
      "grid_gap": null,
      "grid_row": null,
      "grid_template_areas": null,
      "grid_template_columns": null,
      "grid_template_rows": null,
      "height": null,
      "justify_content": null,
      "justify_items": null,
      "left": null,
      "margin": null,
      "max_height": null,
      "max_width": null,
      "min_height": null,
      "min_width": null,
      "object_fit": null,
      "object_position": null,
      "order": null,
      "overflow": null,
      "overflow_x": null,
      "overflow_y": null,
      "padding": null,
      "right": null,
      "top": null,
      "visibility": null,
      "width": null
     }
    },
    "4ceb532ee9d4424ca297ad2a3d189b8e": {
     "model_module": "@jupyter-widgets/controls",
     "model_name": "FloatProgressModel",
     "state": {
      "_dom_classes": [],
      "_model_module": "@jupyter-widgets/controls",
      "_model_module_version": "1.5.0",
      "_model_name": "FloatProgressModel",
      "_view_count": null,
      "_view_module": "@jupyter-widgets/controls",
      "_view_module_version": "1.5.0",
      "_view_name": "ProgressView",
      "bar_style": "success",
      "description": "",
      "description_tooltip": null,
      "layout": "IPY_MODEL_32cdbd7fc1b840feb59014c1ec298eba",
      "max": 1,
      "min": 0,
      "orientation": "horizontal",
      "style": "IPY_MODEL_1fe0cfb56e0f4283b178d21599ec395f",
      "value": 1
     }
    },
    "52bcd0c3af3e4421ad93db94c654e1bb": {
     "model_module": "@jupyter-widgets/controls",
     "model_name": "HTMLModel",
     "state": {
      "_dom_classes": [],
      "_model_module": "@jupyter-widgets/controls",
      "_model_module_version": "1.5.0",
      "_model_name": "HTMLModel",
      "_view_count": null,
      "_view_module": "@jupyter-widgets/controls",
      "_view_module_version": "1.5.0",
      "_view_name": "HTMLView",
      "description": "",
      "description_tooltip": null,
      "layout": "IPY_MODEL_5be0aa71b06343bda7900fa901065898",
      "placeholder": "​",
      "style": "IPY_MODEL_5aaa714d7d174bb8bb311d287f2fe7f3",
      "value": " 8192/? [00:06&lt;00:00, 1339.20it/s]"
     }
    },
    "5aaa714d7d174bb8bb311d287f2fe7f3": {
     "model_module": "@jupyter-widgets/controls",
     "model_name": "DescriptionStyleModel",
     "state": {
      "_model_module": "@jupyter-widgets/controls",
      "_model_module_version": "1.5.0",
      "_model_name": "DescriptionStyleModel",
      "_view_count": null,
      "_view_module": "@jupyter-widgets/base",
      "_view_module_version": "1.2.0",
      "_view_name": "StyleView",
      "description_width": ""
     }
    },
    "5aee6be5fdcf49909ffbea03105d370a": {
     "model_module": "@jupyter-widgets/controls",
     "model_name": "DescriptionStyleModel",
     "state": {
      "_model_module": "@jupyter-widgets/controls",
      "_model_module_version": "1.5.0",
      "_model_name": "DescriptionStyleModel",
      "_view_count": null,
      "_view_module": "@jupyter-widgets/base",
      "_view_module_version": "1.2.0",
      "_view_name": "StyleView",
      "description_width": ""
     }
    },
    "5be0aa71b06343bda7900fa901065898": {
     "model_module": "@jupyter-widgets/base",
     "model_name": "LayoutModel",
     "state": {
      "_model_module": "@jupyter-widgets/base",
      "_model_module_version": "1.2.0",
      "_model_name": "LayoutModel",
      "_view_count": null,
      "_view_module": "@jupyter-widgets/base",
      "_view_module_version": "1.2.0",
      "_view_name": "LayoutView",
      "align_content": null,
      "align_items": null,
      "align_self": null,
      "border": null,
      "bottom": null,
      "display": null,
      "flex": null,
      "flex_flow": null,
      "grid_area": null,
      "grid_auto_columns": null,
      "grid_auto_flow": null,
      "grid_auto_rows": null,
      "grid_column": null,
      "grid_gap": null,
      "grid_row": null,
      "grid_template_areas": null,
      "grid_template_columns": null,
      "grid_template_rows": null,
      "height": null,
      "justify_content": null,
      "justify_items": null,
      "left": null,
      "margin": null,
      "max_height": null,
      "max_width": null,
      "min_height": null,
      "min_width": null,
      "object_fit": null,
      "object_position": null,
      "order": null,
      "overflow": null,
      "overflow_x": null,
      "overflow_y": null,
      "padding": null,
      "right": null,
      "top": null,
      "visibility": null,
      "width": null
     }
    },
    "5c7f1a41bf454c29a3c33358d42009ce": {
     "model_module": "@jupyter-widgets/controls",
     "model_name": "HBoxModel",
     "state": {
      "_dom_classes": [],
      "_model_module": "@jupyter-widgets/controls",
      "_model_module_version": "1.5.0",
      "_model_name": "HBoxModel",
      "_view_count": null,
      "_view_module": "@jupyter-widgets/controls",
      "_view_module_version": "1.5.0",
      "_view_name": "HBoxView",
      "box_style": "",
      "children": [
       "IPY_MODEL_f086b2b0583d4f8984b98e48de2118bf",
       "IPY_MODEL_8c7fe12bbe67492b8de1569e1db852ec"
      ],
      "layout": "IPY_MODEL_80b94fdd99b5402db2e3d3a388514508"
     }
    },
    "5ce82af04ec246bdbc1e16bb44bae38a": {
     "model_module": "@jupyter-widgets/controls",
     "model_name": "HTMLModel",
     "state": {
      "_dom_classes": [],
      "_model_module": "@jupyter-widgets/controls",
      "_model_module_version": "1.5.0",
      "_model_name": "HTMLModel",
      "_view_count": null,
      "_view_module": "@jupyter-widgets/controls",
      "_view_module_version": "1.5.0",
      "_view_name": "HTMLView",
      "description": "",
      "description_tooltip": null,
      "layout": "IPY_MODEL_92d479d228924b92a84e3da835e5ce3f",
      "placeholder": "​",
      "style": "IPY_MODEL_02a091b4955f4ab7a334e205abcbc866",
      "value": " 1654784/? [00:06&lt;00:00, 255395.56it/s]"
     }
    },
    "80b94fdd99b5402db2e3d3a388514508": {
     "model_module": "@jupyter-widgets/base",
     "model_name": "LayoutModel",
     "state": {
      "_model_module": "@jupyter-widgets/base",
      "_model_module_version": "1.2.0",
      "_model_name": "LayoutModel",
      "_view_count": null,
      "_view_module": "@jupyter-widgets/base",
      "_view_module_version": "1.2.0",
      "_view_name": "LayoutView",
      "align_content": null,
      "align_items": null,
      "align_self": null,
      "border": null,
      "bottom": null,
      "display": null,
      "flex": null,
      "flex_flow": null,
      "grid_area": null,
      "grid_auto_columns": null,
      "grid_auto_flow": null,
      "grid_auto_rows": null,
      "grid_column": null,
      "grid_gap": null,
      "grid_row": null,
      "grid_template_areas": null,
      "grid_template_columns": null,
      "grid_template_rows": null,
      "height": null,
      "justify_content": null,
      "justify_items": null,
      "left": null,
      "margin": null,
      "max_height": null,
      "max_width": null,
      "min_height": null,
      "min_width": null,
      "object_fit": null,
      "object_position": null,
      "order": null,
      "overflow": null,
      "overflow_x": null,
      "overflow_y": null,
      "padding": null,
      "right": null,
      "top": null,
      "visibility": null,
      "width": null
     }
    },
    "8750cbb2e65c44bea609c9e965174752": {
     "model_module": "@jupyter-widgets/base",
     "model_name": "LayoutModel",
     "state": {
      "_model_module": "@jupyter-widgets/base",
      "_model_module_version": "1.2.0",
      "_model_name": "LayoutModel",
      "_view_count": null,
      "_view_module": "@jupyter-widgets/base",
      "_view_module_version": "1.2.0",
      "_view_name": "LayoutView",
      "align_content": null,
      "align_items": null,
      "align_self": null,
      "border": null,
      "bottom": null,
      "display": null,
      "flex": null,
      "flex_flow": null,
      "grid_area": null,
      "grid_auto_columns": null,
      "grid_auto_flow": null,
      "grid_auto_rows": null,
      "grid_column": null,
      "grid_gap": null,
      "grid_row": null,
      "grid_template_areas": null,
      "grid_template_columns": null,
      "grid_template_rows": null,
      "height": null,
      "justify_content": null,
      "justify_items": null,
      "left": null,
      "margin": null,
      "max_height": null,
      "max_width": null,
      "min_height": null,
      "min_width": null,
      "object_fit": null,
      "object_position": null,
      "order": null,
      "overflow": null,
      "overflow_x": null,
      "overflow_y": null,
      "padding": null,
      "right": null,
      "top": null,
      "visibility": null,
      "width": null
     }
    },
    "8c7fe12bbe67492b8de1569e1db852ec": {
     "model_module": "@jupyter-widgets/controls",
     "model_name": "HTMLModel",
     "state": {
      "_dom_classes": [],
      "_model_module": "@jupyter-widgets/controls",
      "_model_module_version": "1.5.0",
      "_model_name": "HTMLModel",
      "_view_count": null,
      "_view_module": "@jupyter-widgets/controls",
      "_view_module_version": "1.5.0",
      "_view_name": "HTMLView",
      "description": "",
      "description_tooltip": null,
      "layout": "IPY_MODEL_aad43136ea74473c845039a35c8b2249",
      "placeholder": "​",
      "style": "IPY_MODEL_bae5ed8fc70a4df598be89d14c3473d8",
      "value": " 9920512/? [00:07&lt;00:00, 1271918.60it/s]"
     }
    },
    "92d479d228924b92a84e3da835e5ce3f": {
     "model_module": "@jupyter-widgets/base",
     "model_name": "LayoutModel",
     "state": {
      "_model_module": "@jupyter-widgets/base",
      "_model_module_version": "1.2.0",
      "_model_name": "LayoutModel",
      "_view_count": null,
      "_view_module": "@jupyter-widgets/base",
      "_view_module_version": "1.2.0",
      "_view_name": "LayoutView",
      "align_content": null,
      "align_items": null,
      "align_self": null,
      "border": null,
      "bottom": null,
      "display": null,
      "flex": null,
      "flex_flow": null,
      "grid_area": null,
      "grid_auto_columns": null,
      "grid_auto_flow": null,
      "grid_auto_rows": null,
      "grid_column": null,
      "grid_gap": null,
      "grid_row": null,
      "grid_template_areas": null,
      "grid_template_columns": null,
      "grid_template_rows": null,
      "height": null,
      "justify_content": null,
      "justify_items": null,
      "left": null,
      "margin": null,
      "max_height": null,
      "max_width": null,
      "min_height": null,
      "min_width": null,
      "object_fit": null,
      "object_position": null,
      "order": null,
      "overflow": null,
      "overflow_x": null,
      "overflow_y": null,
      "padding": null,
      "right": null,
      "top": null,
      "visibility": null,
      "width": null
     }
    },
    "97561c9d627a4cdc9ea0b7052723df96": {
     "model_module": "@jupyter-widgets/base",
     "model_name": "LayoutModel",
     "state": {
      "_model_module": "@jupyter-widgets/base",
      "_model_module_version": "1.2.0",
      "_model_name": "LayoutModel",
      "_view_count": null,
      "_view_module": "@jupyter-widgets/base",
      "_view_module_version": "1.2.0",
      "_view_name": "LayoutView",
      "align_content": null,
      "align_items": null,
      "align_self": null,
      "border": null,
      "bottom": null,
      "display": null,
      "flex": null,
      "flex_flow": null,
      "grid_area": null,
      "grid_auto_columns": null,
      "grid_auto_flow": null,
      "grid_auto_rows": null,
      "grid_column": null,
      "grid_gap": null,
      "grid_row": null,
      "grid_template_areas": null,
      "grid_template_columns": null,
      "grid_template_rows": null,
      "height": null,
      "justify_content": null,
      "justify_items": null,
      "left": null,
      "margin": null,
      "max_height": null,
      "max_width": null,
      "min_height": null,
      "min_width": null,
      "object_fit": null,
      "object_position": null,
      "order": null,
      "overflow": null,
      "overflow_x": null,
      "overflow_y": null,
      "padding": null,
      "right": null,
      "top": null,
      "visibility": null,
      "width": null
     }
    },
    "979c69278eea458a987ec0a531dae9bf": {
     "model_module": "@jupyter-widgets/controls",
     "model_name": "ProgressStyleModel",
     "state": {
      "_model_module": "@jupyter-widgets/controls",
      "_model_module_version": "1.5.0",
      "_model_name": "ProgressStyleModel",
      "_view_count": null,
      "_view_module": "@jupyter-widgets/base",
      "_view_module_version": "1.2.0",
      "_view_name": "StyleView",
      "bar_color": null,
      "description_width": "initial"
     }
    },
    "a5b40e19d4424a4eb8a12ae6c638d901": {
     "model_module": "@jupyter-widgets/base",
     "model_name": "LayoutModel",
     "state": {
      "_model_module": "@jupyter-widgets/base",
      "_model_module_version": "1.2.0",
      "_model_name": "LayoutModel",
      "_view_count": null,
      "_view_module": "@jupyter-widgets/base",
      "_view_module_version": "1.2.0",
      "_view_name": "LayoutView",
      "align_content": null,
      "align_items": null,
      "align_self": null,
      "border": null,
      "bottom": null,
      "display": null,
      "flex": null,
      "flex_flow": null,
      "grid_area": null,
      "grid_auto_columns": null,
      "grid_auto_flow": null,
      "grid_auto_rows": null,
      "grid_column": null,
      "grid_gap": null,
      "grid_row": null,
      "grid_template_areas": null,
      "grid_template_columns": null,
      "grid_template_rows": null,
      "height": null,
      "justify_content": null,
      "justify_items": null,
      "left": null,
      "margin": null,
      "max_height": null,
      "max_width": null,
      "min_height": null,
      "min_width": null,
      "object_fit": null,
      "object_position": null,
      "order": null,
      "overflow": null,
      "overflow_x": null,
      "overflow_y": null,
      "padding": null,
      "right": null,
      "top": null,
      "visibility": null,
      "width": null
     }
    },
    "aad43136ea74473c845039a35c8b2249": {
     "model_module": "@jupyter-widgets/base",
     "model_name": "LayoutModel",
     "state": {
      "_model_module": "@jupyter-widgets/base",
      "_model_module_version": "1.2.0",
      "_model_name": "LayoutModel",
      "_view_count": null,
      "_view_module": "@jupyter-widgets/base",
      "_view_module_version": "1.2.0",
      "_view_name": "LayoutView",
      "align_content": null,
      "align_items": null,
      "align_self": null,
      "border": null,
      "bottom": null,
      "display": null,
      "flex": null,
      "flex_flow": null,
      "grid_area": null,
      "grid_auto_columns": null,
      "grid_auto_flow": null,
      "grid_auto_rows": null,
      "grid_column": null,
      "grid_gap": null,
      "grid_row": null,
      "grid_template_areas": null,
      "grid_template_columns": null,
      "grid_template_rows": null,
      "height": null,
      "justify_content": null,
      "justify_items": null,
      "left": null,
      "margin": null,
      "max_height": null,
      "max_width": null,
      "min_height": null,
      "min_width": null,
      "object_fit": null,
      "object_position": null,
      "order": null,
      "overflow": null,
      "overflow_x": null,
      "overflow_y": null,
      "padding": null,
      "right": null,
      "top": null,
      "visibility": null,
      "width": null
     }
    },
    "bae5ed8fc70a4df598be89d14c3473d8": {
     "model_module": "@jupyter-widgets/controls",
     "model_name": "DescriptionStyleModel",
     "state": {
      "_model_module": "@jupyter-widgets/controls",
      "_model_module_version": "1.5.0",
      "_model_name": "DescriptionStyleModel",
      "_view_count": null,
      "_view_module": "@jupyter-widgets/base",
      "_view_module_version": "1.2.0",
      "_view_name": "StyleView",
      "description_width": ""
     }
    },
    "bfd7bb72baf744949bb1ece00a9e69e8": {
     "model_module": "@jupyter-widgets/base",
     "model_name": "LayoutModel",
     "state": {
      "_model_module": "@jupyter-widgets/base",
      "_model_module_version": "1.2.0",
      "_model_name": "LayoutModel",
      "_view_count": null,
      "_view_module": "@jupyter-widgets/base",
      "_view_module_version": "1.2.0",
      "_view_name": "LayoutView",
      "align_content": null,
      "align_items": null,
      "align_self": null,
      "border": null,
      "bottom": null,
      "display": null,
      "flex": null,
      "flex_flow": null,
      "grid_area": null,
      "grid_auto_columns": null,
      "grid_auto_flow": null,
      "grid_auto_rows": null,
      "grid_column": null,
      "grid_gap": null,
      "grid_row": null,
      "grid_template_areas": null,
      "grid_template_columns": null,
      "grid_template_rows": null,
      "height": null,
      "justify_content": null,
      "justify_items": null,
      "left": null,
      "margin": null,
      "max_height": null,
      "max_width": null,
      "min_height": null,
      "min_width": null,
      "object_fit": null,
      "object_position": null,
      "order": null,
      "overflow": null,
      "overflow_x": null,
      "overflow_y": null,
      "padding": null,
      "right": null,
      "top": null,
      "visibility": null,
      "width": null
     }
    },
    "dbb12da6d450410abb59518302b3e28b": {
     "model_module": "@jupyter-widgets/controls",
     "model_name": "HTMLModel",
     "state": {
      "_dom_classes": [],
      "_model_module": "@jupyter-widgets/controls",
      "_model_module_version": "1.5.0",
      "_model_name": "HTMLModel",
      "_view_count": null,
      "_view_module": "@jupyter-widgets/controls",
      "_view_module_version": "1.5.0",
      "_view_name": "HTMLView",
      "description": "",
      "description_tooltip": null,
      "layout": "IPY_MODEL_97561c9d627a4cdc9ea0b7052723df96",
      "placeholder": "​",
      "style": "IPY_MODEL_5aee6be5fdcf49909ffbea03105d370a",
      "value": " 32768/? [00:06&lt;00:00, 4772.21it/s]"
     }
    },
    "dbd749d766794c9385108c8c395705fe": {
     "model_module": "@jupyter-widgets/base",
     "model_name": "LayoutModel",
     "state": {
      "_model_module": "@jupyter-widgets/base",
      "_model_module_version": "1.2.0",
      "_model_name": "LayoutModel",
      "_view_count": null,
      "_view_module": "@jupyter-widgets/base",
      "_view_module_version": "1.2.0",
      "_view_name": "LayoutView",
      "align_content": null,
      "align_items": null,
      "align_self": null,
      "border": null,
      "bottom": null,
      "display": null,
      "flex": null,
      "flex_flow": null,
      "grid_area": null,
      "grid_auto_columns": null,
      "grid_auto_flow": null,
      "grid_auto_rows": null,
      "grid_column": null,
      "grid_gap": null,
      "grid_row": null,
      "grid_template_areas": null,
      "grid_template_columns": null,
      "grid_template_rows": null,
      "height": null,
      "justify_content": null,
      "justify_items": null,
      "left": null,
      "margin": null,
      "max_height": null,
      "max_width": null,
      "min_height": null,
      "min_width": null,
      "object_fit": null,
      "object_position": null,
      "order": null,
      "overflow": null,
      "overflow_x": null,
      "overflow_y": null,
      "padding": null,
      "right": null,
      "top": null,
      "visibility": null,
      "width": null
     }
    },
    "dbee07d53a7643469574b49d7b51e1cc": {
     "model_module": "@jupyter-widgets/controls",
     "model_name": "HBoxModel",
     "state": {
      "_dom_classes": [],
      "_model_module": "@jupyter-widgets/controls",
      "_model_module_version": "1.5.0",
      "_model_name": "HBoxModel",
      "_view_count": null,
      "_view_module": "@jupyter-widgets/controls",
      "_view_module_version": "1.5.0",
      "_view_name": "HBoxView",
      "box_style": "",
      "children": [
       "IPY_MODEL_3e527a71a4504f3cbc0068f8cb8fa6aa",
       "IPY_MODEL_52bcd0c3af3e4421ad93db94c654e1bb"
      ],
      "layout": "IPY_MODEL_bfd7bb72baf744949bb1ece00a9e69e8"
     }
    },
    "ecda9b22ac784313890d83d896921243": {
     "model_module": "@jupyter-widgets/controls",
     "model_name": "ProgressStyleModel",
     "state": {
      "_model_module": "@jupyter-widgets/controls",
      "_model_module_version": "1.5.0",
      "_model_name": "ProgressStyleModel",
      "_view_count": null,
      "_view_module": "@jupyter-widgets/base",
      "_view_module_version": "1.2.0",
      "_view_name": "StyleView",
      "bar_color": null,
      "description_width": "initial"
     }
    },
    "f086b2b0583d4f8984b98e48de2118bf": {
     "model_module": "@jupyter-widgets/controls",
     "model_name": "FloatProgressModel",
     "state": {
      "_dom_classes": [],
      "_model_module": "@jupyter-widgets/controls",
      "_model_module_version": "1.5.0",
      "_model_name": "FloatProgressModel",
      "_view_count": null,
      "_view_module": "@jupyter-widgets/controls",
      "_view_module_version": "1.5.0",
      "_view_name": "ProgressView",
      "bar_style": "success",
      "description": "",
      "description_tooltip": null,
      "layout": "IPY_MODEL_133c3f8995ee4e7084b718e720d136c6",
      "max": 1,
      "min": 0,
      "orientation": "horizontal",
      "style": "IPY_MODEL_f56d661bdb34417490844c1a93e5cae1",
      "value": 1
     }
    },
    "f56d661bdb34417490844c1a93e5cae1": {
     "model_module": "@jupyter-widgets/controls",
     "model_name": "ProgressStyleModel",
     "state": {
      "_model_module": "@jupyter-widgets/controls",
      "_model_module_version": "1.5.0",
      "_model_name": "ProgressStyleModel",
      "_view_count": null,
      "_view_module": "@jupyter-widgets/base",
      "_view_module_version": "1.2.0",
      "_view_name": "StyleView",
      "bar_color": null,
      "description_width": "initial"
     }
    }
   }
  }
 },
 "nbformat": 4,
 "nbformat_minor": 1
}
