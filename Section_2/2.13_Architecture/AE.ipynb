{
 "cells": [
  {
   "cell_type": "markdown",
   "metadata": {
    "collapsed": false
   },
   "source": [
    "# Auto Encoders"
   ]
  },
  {
   "cell_type": "code",
   "execution_count": null,
   "metadata": {},
   "outputs": [],
   "source": [
    "def get_free_gpu():\n",
    "    from pynvml import nvmlInit, nvmlDeviceGetHandleByIndex, nvmlDeviceGetMemoryInfo, nvmlDeviceGetCount\n",
    "    nvmlInit()\n",
    "\n",
    "    return np.argmax([\n",
    "        nvmlDeviceGetMemoryInfo(nvmlDeviceGetHandleByIndex(i)).free\n",
    "        for i in range(nvmlDeviceGetCount())\n",
    "    ])"
   ]
  },
  {
   "cell_type": "code",
   "execution_count": null,
   "metadata": {},
   "outputs": [],
   "source": [
    "import numpy as np\n",
    "import torch\n",
    "import torchvision\n",
    "\n",
    "import matplotlib.pyplot as plt\n",
    "from tqdm.notebook import tqdm\n",
    "\n",
    "\n",
    "if torch.cuda.is_available():\n",
    "    cuda_id = get_free_gpu()\n",
    "    DEVICE = 'cuda:%d' % (get_free_gpu(), )\n",
    "    print('Selected %s' % (DEVICE, ))\n",
    "else:\n",
    "    DEVICE = 'cpu'\n",
    "    print('WARNING: using cpu!')\n",
    "\n",
    "### please, don't remove the following line\n",
    "x = torch.tensor([1], dtype=torch.float32).to(DEVICE)"
   ]
  },
  {
   "cell_type": "markdown",
   "metadata": {
    "collapsed": false
   },
   "source": [
    "## Loading data"
   ]
  },
  {
   "cell_type": "code",
   "execution_count": null,
   "metadata": {},
   "outputs": [],
   "source": [
    "from torchvision.datasets import MNIST\n",
    "\n",
    "ds_train = MNIST(\"../../data/\", train=True, download=True)\n",
    "ds_test = MNIST(\"../../data/\", train=False, download=True)\n",
    "\n",
    "data_train = ds_train.data.reshape(-1, 1, 28, 28).cpu().numpy().astype(np.float32) / 255\n",
    "\n",
    "dataset_test = torch.utils.data.DataLoader(\n",
    "    torch.utils.data.TensorDataset(\n",
    "        (ds_test.data.reshape(-1, 1, 28, 28).to(torch.float32) / 255).to(DEVICE)\n",
    "    ),\n",
    "    batch_size=32\n",
    ")"
   ]
  },
  {
   "cell_type": "code",
   "execution_count": null,
   "metadata": {},
   "outputs": [],
   "source": [
    "plt.figure(figsize=(12, 6), dpi=100)\n",
    "plt.axis('off')\n",
    "_ = plt.imshow(\n",
    "    np.concatenate(\n",
    "        np.concatenate(data_train[:200].reshape(20, 10, 28, 28), axis=2),\n",
    "        axis=0\n",
    "    ),\n",
    "    cmap=plt.cm.Greys\n",
    ")"
   ]
  },
  {
   "cell_type": "markdown",
   "metadata": {
    "collapsed": false
   },
   "source": [
    "## Building AE"
   ]
  },
  {
   "cell_type": "code",
   "execution_count": null,
   "metadata": {},
   "outputs": [],
   "source": [
    "class View(torch.nn.Module):\n",
    "    def __init__(self, *shape):\n",
    "        super(View, self).__init__()\n",
    "        self.shape = shape\n",
    "\n",
    "    def forward(self, x):\n",
    "        return x.view(*self.shape)"
   ]
  },
  {
   "cell_type": "code",
   "execution_count": null,
   "metadata": {},
   "outputs": [],
   "source": [
    "n = 8\n",
    "\n",
    "code_size = 4 * n\n",
    "\n",
    "encoder = torch.nn.Sequential(\n",
    "    ### 26 x 26\n",
    "    torch.nn.Conv2d(1, 2 * n, kernel_size=3, stride=1), torch.nn.LeakyReLU(),\n",
    "    ### 12 x 12\n",
    "    torch.nn.Conv2d(2 * n, 2 * n, kernel_size=3, stride=2), torch.nn.LeakyReLU(),\n",
    "    \n",
    "    ### 10 x 10\n",
    "    torch.nn.Conv2d(2 * n, 3 * n, kernel_size=3, stride=1), torch.nn.LeakyReLU(),\n",
    "    ### 4 x 4\n",
    "    torch.nn.Conv2d(3 * n, 3 * n, kernel_size=3, stride=2), torch.nn.LeakyReLU(),\n",
    "    \n",
    "     ### 2 x 2\n",
    "     torch.nn.Conv2d(3 * n, 4 * n, kernel_size=3, stride=1), torch.nn.LeakyReLU(),\n",
    "\n",
    "     torch.nn.Flatten(),\n",
    "     torch.nn.Linear(2 * 2 * 4 * n, code_size),\n",
    ").to(DEVICE)\n",
    "\n",
    "decoder = torch.nn.Sequential(\n",
    "    torch.nn.Linear(code_size, 2 * 2 * 4 * n),\n",
    "    View(-1, 4 * n, 2, 2),\n",
    "    \n",
    "    ### 4 x 4\n",
    "    torch.nn.ConvTranspose2d(4 * n, 3 * n, kernel_size=3, stride=1), torch.nn.LeakyReLU(),\n",
    "    \n",
    "    ### 10 x 10\n",
    "    torch.nn.ConvTranspose2d(3 * n, 3 * n, kernel_size=3, stride=2, output_padding=1), torch.nn.LeakyReLU(),\n",
    "    ### 12 x 12\n",
    "    torch.nn.ConvTranspose2d(3 * n, 2 * n, kernel_size=3, stride=1), torch.nn.LeakyReLU(),\n",
    "    \n",
    "    ### 24 x 24\n",
    "    torch.nn.ConvTranspose2d(2 * n, 2 * n, kernel_size=3, stride=2, output_padding=1), torch.nn.LeakyReLU(),\n",
    "    torch.nn.ConvTranspose2d(2 * n, 1, kernel_size=3, stride=1), torch.nn.LeakyReLU(),\n",
    ").to(DEVICE)"
   ]
  },
  {
   "cell_type": "code",
   "execution_count": null,
   "metadata": {},
   "outputs": [],
   "source": [
    "### checks if shapes are correct\n",
    "X_batch = torch.tensor(data_train[:10].reshape(-1, 1, 28, 28), device=DEVICE)\n",
    "decoder(encoder(X_batch)).shape"
   ]
  },
  {
   "cell_type": "code",
   "execution_count": null,
   "metadata": {},
   "outputs": [],
   "source": [
    "opt = torch.optim.Adam(list(encoder.parameters()) + list(decoder.parameters()))"
   ]
  },
  {
   "cell_type": "markdown",
   "metadata": {
    "collapsed": false
   },
   "source": [
    "## Task 1\n",
    "\n",
    "Please, complete autoencoder training procedure:\n",
    "- implement encoding;\n",
    "- implement decoding;\n",
    "- compute MSE loss.\n",
    "\n",
    "Use `loss` variable to hold value of the MSE loss on the current batch."
   ]
  },
  {
   "cell_type": "code",
   "execution_count": null,
   "metadata": {
    "deletable": false,
    "nbgrader": {
     "cell_type": "code",
     "checksum": "74312638f9c50c5a24eedf528ec08127",
     "grade": false,
     "grade_id": "AE",
     "locked": false,
     "schema_version": 3,
     "solution": true,
     "task": false
    }
   },
   "outputs": [],
   "source": [
    "batch_size = 32\n",
    "n_epoches = 4\n",
    "n_batches = len(data_train) // batch_size\n",
    "\n",
    "losses = np.zeros((n_epoches, n_batches), dtype=np.float32)\n",
    "\n",
    "for i in tqdm(range(n_epoches)):\n",
    "    for j in range(n_batches):\n",
    "        ### Here, we operate with numpy tensors and then cast them to torch.tensor, but,\n",
    "        ### in general, if possible, keep your dataset in torch tensors\n",
    "        ### to avoid unnecessary CPU-to-GPU transfers,\n",
    "        ### e.g., use DataLoader with TensorDataset.\n",
    "        indx = np.random.randint(0, data_train.shape[0], size=batch_size)\n",
    "        imgs = data_train[indx]\n",
    "\n",
    "        X_batch = torch.tensor(imgs,\n",
    "                               device=DEVICE,\n",
    "                               dtype=torch.float32,\n",
    "                               requires_grad=False)\n",
    "\n",
    "        # your code here\n",
    "        raise NotImplementedError\n",
    "\n",
    "        loss.backward()\n",
    "        opt.step()\n",
    "        opt.zero_grad()\n",
    "\n",
    "        losses[i, j] = loss.item()"
   ]
  },
  {
   "cell_type": "code",
   "execution_count": null,
   "metadata": {},
   "outputs": [],
   "source": [
    "plt.plot(np.mean(losses, axis=1), label='MSE')\n",
    "plt.xlabel('iteration')"
   ]
  },
  {
   "cell_type": "code",
   "execution_count": null,
   "metadata": {
    "deletable": false,
    "editable": false,
    "nbgrader": {
     "cell_type": "code",
     "checksum": "c7ed454347fa68e8c0ed7a9005d47323",
     "grade": true,
     "grade_id": "AE-test",
     "locked": true,
     "points": 1,
     "schema_version": 3,
     "solution": false,
     "task": false
    }
   },
   "outputs": [],
   "source": [
    "with torch.no_grad():\n",
    "    errors = np.concatenate([\n",
    "        torch.mean((X - decoder(encoder(X))) ** 2, axis=(1, 2, 3)).cpu().numpy()\n",
    "        for X, in dataset_test\n",
    "    ], axis=0)\n",
    "    \n",
    "assert np.mean(errors) < 1e-2"
   ]
  },
  {
   "cell_type": "markdown",
   "metadata": {
    "collapsed": false
   },
   "source": [
    "### Visual check of reconstruction quality"
   ]
  },
  {
   "cell_type": "code",
   "execution_count": null,
   "metadata": {},
   "outputs": [],
   "source": [
    "X = torch.tensor(data_train[:20], device=DEVICE, dtype=torch.float32, requires_grad=False)\n",
    "X_rec = decoder(encoder(X)).cpu().detach().numpy()\n",
    "\n",
    "plt.figure(figsize=(40, 2))\n",
    "plt.axis('off')\n",
    "plt.imshow(\n",
    "    np.concatenate(\n",
    "        np.concatenate([data_train[:20], X_rec], axis=2),\n",
    "        axis=2\n",
    "    )[0, :, :],\n",
    "    cmap=plt.cm.Greys\n",
    ")"
   ]
  },
  {
   "cell_type": "markdown",
   "metadata": {
    "collapsed": false
   },
   "source": [
    "### Algebra in latent space\n",
    "\n",
    "Unlike Eucledian space, latent space of AE supports linear algebra, i.e.:\n",
    "\n",
    "$$\\mathrm{decode}\\big[\\alpha \\cdot \\mathrm{encode}(X_1) + (1 - \\alpha) \\cdot \\mathrm{encode}(X_2)\\big]$$\n",
    "\n",
    "is not a blurry overlay of two images but a realistic image of a digit (mostly)!"
   ]
  },
  {
   "cell_type": "code",
   "execution_count": null,
   "metadata": {},
   "outputs": [],
   "source": [
    "n_cols = 20\n",
    "n_rows = 10\n",
    "X = torch.tensor(data_train[:2 * n_rows], device=DEVICE, dtype=torch.float32, requires_grad=False)\n",
    "\n",
    "with torch.no_grad():\n",
    "    code = encoder(X)\n",
    "    code1, code2 = code[:n_rows], code[n_rows:]\n",
    "    alphas = np.linspace(0, 1, num=n_cols)\n",
    "\n",
    "    results = np.stack([\n",
    "        decoder(alpha * code1 + (1 - alpha) * code2).cpu().numpy()\n",
    "        for alpha in alphas\n",
    "    ], axis=0)\n",
    "\n",
    "plt.figure(figsize=(2 * n_cols, 2 * n_rows))\n",
    "plt.axis('off')\n",
    "plt.imshow(\n",
    "    np.concatenate(\n",
    "        np.concatenate(results, axis=-1),\n",
    "        axis=-2\n",
    "    )[0, :, :],\n",
    "    cmap=plt.cm.Greys\n",
    ")"
   ]
  },
  {
   "cell_type": "markdown",
   "metadata": {
    "collapsed": false
   },
   "source": [
    "## Augmenting data via rotations "
   ]
  },
  {
   "cell_type": "code",
   "execution_count": null,
   "metadata": {},
   "outputs": [],
   "source": [
    "def rotate(imgs, angles):\n",
    "    from PIL import Image\n",
    "\n",
    "    return np.stack([\n",
    "        np.array(\n",
    "            Image.fromarray(img[0, :, :]).rotate(angle, Image.BILINEAR)\n",
    "        )\n",
    "        for img, angle in zip(imgs, angles)\n",
    "    ], axis=0).reshape(-1, 1, 28, 28)"
   ]
  },
  {
   "cell_type": "code",
   "execution_count": null,
   "metadata": {},
   "outputs": [],
   "source": [
    "X_rot = rotate(data_train[:200], np.random.uniform(0, 360, size=200))\n",
    "\n",
    "plt.figure(figsize=(12, 6), dpi=100)\n",
    "plt.axis('off')\n",
    "_ = plt.imshow(\n",
    "    np.concatenate(\n",
    "        np.concatenate(X_rot.reshape(20, 10, 28, 28), axis=2),\n",
    "        axis=0\n",
    "    ),\n",
    "    cmap=plt.cm.Greys\n",
    ")"
   ]
  },
  {
   "cell_type": "markdown",
   "metadata": {
    "collapsed": false
   },
   "source": [
    "## Task 2\n",
    "\n",
    "Please train AE like in the previous task, but make it robust to image rotations."
   ]
  },
  {
   "cell_type": "code",
   "execution_count": null,
   "metadata": {},
   "outputs": [],
   "source": [
    "opt = torch.optim.Adam(list(encoder.parameters()) + list(decoder.parameters()))"
   ]
  },
  {
   "cell_type": "code",
   "execution_count": null,
   "metadata": {
    "deletable": false,
    "nbgrader": {
     "cell_type": "code",
     "checksum": "774be1214c66af49a4571c6dd3b19b2a",
     "grade": false,
     "grade_id": "AE-rotation",
     "locked": false,
     "schema_version": 3,
     "solution": true,
     "task": false
    }
   },
   "outputs": [],
   "source": [
    "batch_size = 32\n",
    "n_epoches = 4\n",
    "n_batches = len(data_train) // batch_size\n",
    "\n",
    "losses = np.zeros((n_epoches, n_batches), dtype=np.float32)\n",
    "\n",
    "for i in tqdm(range(n_epoches)):\n",
    "    for j in range(n_batches):\n",
    "        indx = np.random.randint(0, data_train.shape[0], size=batch_size)\n",
    "        imgs = data_train[indx]\n",
    "\n",
    "        # your code here\n",
    "        raise NotImplementedError\n",
    "        \n",
    "        loss.backward()\n",
    "        opt.step()\n",
    "        opt.zero_grad()\n",
    "        \n",
    "        losses[i, j] = loss.item()"
   ]
  },
  {
   "cell_type": "code",
   "execution_count": null,
   "metadata": {
    "deletable": false,
    "editable": false,
    "nbgrader": {
     "cell_type": "code",
     "checksum": "9271bd3c87a22cbf9656fa2f415350eb",
     "grade": true,
     "grade_id": "AE-rotation-test",
     "locked": true,
     "points": 1,
     "schema_version": 3,
     "solution": false,
     "task": false
    }
   },
   "outputs": [],
   "source": [
    "rng = np.random.RandomState(seed=1111)\n",
    "\n",
    "with torch.no_grad():\n",
    "    errors = list()\n",
    "    \n",
    "    for X, in dataset_test:\n",
    "        X_rot = torch.tensor(\n",
    "            rotate(X.cpu().numpy(), np.random.uniform(0, 360, size=X.shape[0])),\n",
    "            device=DEVICE, dtype=torch.float32, requires_grad=False\n",
    "        )\n",
    "    \n",
    "        errors.append(\n",
    "            torch.mean((X - decoder(encoder(X))) ** 2, axis=(1, 2, 3)).cpu().numpy()\n",
    "        )\n",
    "\n",
    "errors = np.concatenate(errors, axis=0)\n",
    "    \n",
    "assert np.mean(errors) < 1e-2, 'Reconstruction error is too large %.3lf' % (np.mean(errors), )"
   ]
  },
  {
   "cell_type": "code",
   "execution_count": null,
   "metadata": {},
   "outputs": [],
   "source": [
    "X_rot = rotate(data_train[:20], np.random.uniform(0, 360, size=200))\n",
    "\n",
    "x = torch.tensor(\n",
    "    X_rot,\n",
    "    device=DEVICE, dtype=torch.float32, requires_grad=False\n",
    ")\n",
    "x_rec = decoder(encoder(x)).cpu().detach().numpy()\n",
    "\n",
    "plt.figure(figsize=(40, 2))\n",
    "plt.axis('off')\n",
    "plt.imshow(\n",
    "    np.concatenate(\n",
    "        np.concatenate([X_rot, x_rec], axis=2),\n",
    "        axis=2\n",
    "    )[0, :, :],\n",
    "    cmap=plt.cm.Greys\n",
    ")"
   ]
  },
  {
   "cell_type": "markdown",
   "metadata": {
    "collapsed": false
   },
   "source": [
    "## Linear algebra\n",
    "\n",
    "I doesn't look like rotation is a linear operation even in the latent space... Why?"
   ]
  },
  {
   "cell_type": "code",
   "execution_count": null,
   "metadata": {},
   "outputs": [],
   "source": [
    "n_cols = 20\n",
    "n_rows = 10\n",
    "\n",
    "X1 = torch.tensor(data_train[:n_rows], device=DEVICE, dtype=torch.float32, requires_grad=False)\n",
    "X2 = torch.tensor(\n",
    "    rotate(data_train[:n_rows], np.repeat(90, n_cols)),\n",
    "    device=DEVICE, dtype=torch.float32, requires_grad=False\n",
    ")\n",
    "\n",
    "with torch.no_grad():\n",
    "    code1 = encoder(X1)\n",
    "    code2 = encoder(X2)\n",
    "    \n",
    "    alphas = np.linspace(0, 1, num=n_cols)\n",
    "\n",
    "    results = np.stack([\n",
    "        decoder(alpha * code1 + (1 - alpha) * code2).cpu().numpy()\n",
    "        for alpha in alphas\n",
    "    ], axis=0)\n",
    "\n",
    "plt.figure(figsize=(2 * n_cols, 2 * n_rows))\n",
    "plt.axis('off')\n",
    "plt.imshow(\n",
    "    np.concatenate(\n",
    "        np.concatenate(results, axis=-1),\n",
    "        axis=-2\n",
    "    )[0, :, :],\n",
    "    cmap=plt.cm.Greys\n",
    ")"
   ]
  },
  {
   "cell_type": "markdown",
   "metadata": {
    "collapsed": false
   },
   "source": [
    "## Approximating rotation (optional)\n",
    "\n",
    "Here, we aim to approximate image rotation, training AE to rotate an image by a given angle."
   ]
  },
  {
   "cell_type": "code",
   "execution_count": null,
   "metadata": {},
   "outputs": [],
   "source": [
    "### Encoder stays, essentially, the same\n",
    "class Encoder(torch.nn.Module):\n",
    "    def __init__(self, n, code_size):\n",
    "        \n",
    "        super(Encoder, self).__init__()\n",
    "        \n",
    "        self.modules = [\n",
    "            ### 26 x 26\n",
    "            torch.nn.Conv2d(1, 2 * n, kernel_size=3, stride=1), torch.nn.LeakyReLU(),\n",
    "            ### 12 x 12\n",
    "            torch.nn.Conv2d(2 * n, 2 * n, kernel_size=3, stride=2), torch.nn.LeakyReLU(),\n",
    "\n",
    "            ### 10 x 10\n",
    "            torch.nn.Conv2d(2 * n, 3 * n, kernel_size=3, stride=1), torch.nn.LeakyReLU(),\n",
    "            ### 4 x 4\n",
    "            torch.nn.Conv2d(3 * n, 3 * n, kernel_size=3, stride=2), torch.nn.LeakyReLU(),\n",
    "\n",
    "             ### 2 x 2\n",
    "             torch.nn.Conv2d(3 * n, 4 * n, kernel_size=3, stride=1), torch.nn.LeakyReLU(),\n",
    "\n",
    "             torch.nn.Flatten(),\n",
    "        ]\n",
    "        \n",
    "        for i, f in enumerate(self.modules):\n",
    "            self.add_module('f%d' % (i, ), f)\n",
    "\n",
    "        self.code = torch.nn.Linear(2 * 2 * 4 * n, code_size)\n",
    "\n",
    "    def forward(self, x):\n",
    "        for f in self.modules:\n",
    "            x = f(x)\n",
    "        \n",
    "        return self.code(x)"
   ]
  },
  {
   "cell_type": "code",
   "execution_count": null,
   "metadata": {},
   "outputs": [],
   "source": [
    "### Decoder, however, now receives an additional input - angle of rotation\n",
    "class Decoder(torch.nn.Module):\n",
    "    def __init__(self, n, code_size):\n",
    "        \n",
    "        super(Decoder, self).__init__()\n",
    "        \n",
    "        self.modules = [\n",
    "            torch.nn.Linear(code_size + 1, 2 * 2 * 4 * n),\n",
    "            View(-1, 4 * n, 2, 2),\n",
    "\n",
    "            ### 4 x 4\n",
    "            torch.nn.ConvTranspose2d(4 * n, 3 * n, kernel_size=3, stride=1), torch.nn.LeakyReLU(),\n",
    "\n",
    "            ### 10 x 10\n",
    "            torch.nn.ConvTranspose2d(3 * n, 3 * n, kernel_size=3, stride=2, output_padding=1), torch.nn.LeakyReLU(),\n",
    "            ### 12 x 12\n",
    "            torch.nn.ConvTranspose2d(3 * n, 2 * n, kernel_size=3, stride=1), torch.nn.LeakyReLU(),\n",
    "\n",
    "            ### 24 x 24\n",
    "            torch.nn.ConvTranspose2d(2 * n, 2 * n, kernel_size=3, stride=2, output_padding=1), torch.nn.LeakyReLU(),\n",
    "            torch.nn.ConvTranspose2d(2 * n, 1, kernel_size=3, stride=1), torch.nn.LeakyReLU()\n",
    "        ]\n",
    "        \n",
    "        for i, f in enumerate(self.modules):\n",
    "            self.add_module('f%d' % (i, ), f)\n",
    "    \n",
    "    def forward(self, code, angle):\n",
    "        code = torch.cat([code, angle], axis=1)\n",
    "        \n",
    "        x = code\n",
    "        for f in self.modules:\n",
    "            x = f(x)\n",
    "        \n",
    "        return x"
   ]
  },
  {
   "cell_type": "code",
   "execution_count": null,
   "metadata": {},
   "outputs": [],
   "source": [
    "### this AE needs more capacity...\n",
    "n = 16\n",
    "code_size = 64\n",
    "\n",
    "encoder_rot = Encoder(n,  code_size).to(DEVICE)\n",
    "decoder_rot = Decoder(n,  code_size).to(DEVICE)"
   ]
  },
  {
   "cell_type": "code",
   "execution_count": null,
   "metadata": {},
   "outputs": [],
   "source": [
    "x = torch.tensor(data_train[:10].reshape(-1, 1, 28, 28), device=DEVICE)\n",
    "angles = torch.tensor(np.random.uniform(0, 1, size=(10, 1)).astype('float32'), device=DEVICE)\n",
    "\n",
    "code = encoder_rot(x)\n",
    "decoder_rot(code, angles).shape"
   ]
  },
  {
   "cell_type": "markdown",
   "metadata": {
    "collapsed": false
   },
   "source": [
    "## Task 3 (optional, not graded)\n",
    "\n",
    "Find a way to approximate image rotation by AE, i.e.:\n",
    "\n",
    "$$\\mathrm{decode}(\\mathrm{encode}(X), \\phi) = \\mathrm{rotate}(X, \\phi).$$\n",
    "\n",
    "Please, feed decoder with angles from $[-0.5, 0.5]$ where $-0.5$ corresponds to $-180$ degrees, and $0.5$ corresponds to $180$ degrees."
   ]
  },
  {
   "cell_type": "code",
   "execution_count": null,
   "metadata": {},
   "outputs": [],
   "source": [
    "opt_split = torch.optim.Adam(list(encoder_rot.parameters()) + list(decoder_rot.parameters()))"
   ]
  },
  {
   "cell_type": "code",
   "execution_count": null,
   "metadata": {
    "deletable": false,
    "nbgrader": {
     "cell_type": "code",
     "checksum": "2d88cabd2f68bfb8d1e513078e871507",
     "grade": false,
     "grade_id": "AE-optional",
     "locked": false,
     "schema_version": 3,
     "solution": true,
     "task": false
    }
   },
   "outputs": [],
   "source": [
    "batch_size = 32\n",
    "n_epoches = 8\n",
    "n_batches = len(data_train) // batch_size\n",
    "\n",
    "losses = np.zeros((n_epoches, n_batches), dtype=np.float32)\n",
    "\n",
    "for i in tqdm(range(n_epoches)):\n",
    "    for j in range(n_batches):\n",
    "        # your code here\n",
    "        raise NotImplementedError"
   ]
  },
  {
   "cell_type": "code",
   "execution_count": null,
   "metadata": {},
   "outputs": [],
   "source": [
    "plt.plot(np.mean(losses, axis=1), label='MSE')\n",
    "plt.xlabel('iteration')"
   ]
  },
  {
   "cell_type": "code",
   "execution_count": null,
   "metadata": {},
   "outputs": [],
   "source": [
    "X_src = data_train[:20]\n",
    "angles = np.random.uniform(-0.5, 0.5, size=20)\n",
    "X_rot = rotate(X_src, angles * 360)\n",
    "\n",
    "with torch.no_grad():\n",
    "    x_src = torch.tensor(X_src, device=DEVICE, dtype=torch.float32, requires_grad=False)\n",
    "    phi = torch.tensor(angles.reshape(-1, 1), device=DEVICE, dtype=torch.float32, requires_grad=False)\n",
    "    \n",
    "    code = encoder_rot(x_src)\n",
    "    X_rec = decoder_rot(code, phi).cpu().numpy()\n",
    "\n",
    "plt.figure(figsize=(40, 3))\n",
    "plt.axis('off')\n",
    "plt.imshow(\n",
    "    np.concatenate(\n",
    "        np.concatenate([X_src, X_rec, X_rot], axis=2),\n",
    "        axis=2\n",
    "    )[0, :, :],\n",
    "    cmap=plt.cm.Greys\n",
    ")"
   ]
  },
  {
   "cell_type": "code",
   "execution_count": null,
   "metadata": {},
   "outputs": [],
   "source": [
    "n_cols = 21\n",
    "n_rows = 10\n",
    "\n",
    "X = torch.tensor(data_train[:n_rows], device=DEVICE, dtype=torch.float32, requires_grad=False)\n",
    "angles = np.linspace(-0.5, 0.5, num=n_cols)\n",
    "\n",
    "with torch.no_grad():\n",
    "    code = encoder_rot(X)\n",
    "\n",
    "    results = np.stack([\n",
    "        decoder_rot(\n",
    "            code, torch.ones(n_rows, 1, device=DEVICE) * angle\n",
    "        ).cpu().numpy()\n",
    "        for angle in angles\n",
    "    ], axis=0)\n",
    "\n",
    "\n",
    "### replace 0 degrees rotation with the original image\n",
    "results[n_cols // 2] = data_train[:n_rows]\n",
    "    \n",
    "    \n",
    "plt.figure(figsize=(2 * n_cols, 2 * n_rows))\n",
    "plt.axis('off')\n",
    "plt.imshow(\n",
    "    np.concatenate(\n",
    "        np.concatenate(results, axis=-1),\n",
    "        axis=-2\n",
    "    )[0, :, :],\n",
    "    cmap=plt.cm.Greys\n",
    ")"
   ]
  },
  {
   "cell_type": "code",
   "execution_count": null,
   "metadata": {},
   "outputs": [],
   "source": []
  }
 ],
 "metadata": {
  "kernelspec": {
   "display_name": "Python 3",
   "language": "python",
   "name": "python3"
  },
  "language_info": {
   "codemirror_mode": {
    "name": "ipython",
    "version": 3
   },
   "file_extension": ".py",
   "mimetype": "text/x-python",
   "name": "python",
   "nbconvert_exporter": "python",
   "pygments_lexer": "ipython3",
   "version": "3.6.9"
  }
 },
 "nbformat": 4,
 "nbformat_minor": 4
}
